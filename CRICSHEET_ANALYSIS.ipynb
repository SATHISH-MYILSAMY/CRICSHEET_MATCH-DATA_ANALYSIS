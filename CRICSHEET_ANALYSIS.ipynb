{
 "cells": [
  {
   "cell_type": "markdown",
   "id": "9f995434-e8e9-4586-9353-014464e5122d",
   "metadata": {},
   "source": [
    "# CRICSHEET MATCH DATA ANALYSIS"
   ]
  },
  {
   "cell_type": "markdown",
   "id": "9ded0fac-795a-431f-83f8-3be7f735ed00",
   "metadata": {},
   "source": [
    "## 1) DATA SCRAPING"
   ]
  },
  {
   "cell_type": "markdown",
   "id": "342d96cb-6d33-46f6-88a4-519be59b3e3b",
   "metadata": {},
   "source": [
    "### INSTALL REQUIRED PACKAGES"
   ]
  },
  {
   "cell_type": "code",
   "execution_count": null,
   "id": "c0f4c7c6-e66f-4e03-8d90-2e5d4bbe513e",
   "metadata": {},
   "outputs": [],
   "source": [
    "!pip install pandas"
   ]
  },
  {
   "cell_type": "markdown",
   "id": "1f127df2-fc51-4133-8821-53f36b952f63",
   "metadata": {},
   "source": [
    "### IMPORT REQUIRED LIBRARIES"
   ]
  },
  {
   "cell_type": "code",
   "execution_count": null,
   "id": "30ceb09c-8db2-49b5-853e-6f7dc9c68675",
   "metadata": {},
   "outputs": [],
   "source": [
    "import os\n",
    "import pandas as pd\n",
    "import json\n",
    "import warnings\n",
    "warnings.filterwarnings(\"ignore\")"
   ]
  },
  {
   "cell_type": "code",
   "execution_count": null,
   "id": "10a34dd9-1940-4104-a8ee-085f8237e94c",
   "metadata": {},
   "outputs": [],
   "source": [
    "os.getcwd()"
   ]
  },
  {
   "cell_type": "code",
   "execution_count": null,
   "id": "83da986f-1833-4df2-b04c-6968febcbd8b",
   "metadata": {
    "scrolled": true
   },
   "outputs": [],
   "source": [
    "os.listdir()"
   ]
  },
  {
   "cell_type": "markdown",
   "id": "a3d833ef-8254-46e8-97fe-7a0c297149f0",
   "metadata": {},
   "source": [
    "#### DEFINE THE PATH TO JSON FILE"
   ]
  },
  {
   "cell_type": "code",
   "execution_count": null,
   "id": "2c7f2f51-6fa7-43f5-ae8a-0c565207876c",
   "metadata": {},
   "outputs": [],
   "source": [
    "base_dir = \"C:\\\\Users\\\\sathi\\\\Downloads\\\\PYTHON - GUVI\""
   ]
  },
  {
   "cell_type": "code",
   "execution_count": null,
   "id": "55400438-e891-46f1-aa5b-17216d13e10b",
   "metadata": {},
   "outputs": [],
   "source": [
    "ipl_path = os.path.join(base_dir, \"IPL\")\n",
    "t20_path = os.path.join(base_dir, \"T20_INTERNATIONALS\")\n",
    "odi_path = os.path.join(base_dir, \"ONE_DAY_INTERNATIONALS\")\n",
    "test_path = os.path.join(base_dir, \"TEST_MATCHES\")"
   ]
  },
  {
   "cell_type": "code",
   "execution_count": null,
   "id": "6330a7de-a380-4883-a404-dea6695bf3da",
   "metadata": {},
   "outputs": [],
   "source": [
    "ipl_path"
   ]
  },
  {
   "cell_type": "code",
   "execution_count": null,
   "id": "04844076-6a4f-4939-94f3-6a0d65a30803",
   "metadata": {},
   "outputs": [],
   "source": [
    "t20_path"
   ]
  },
  {
   "cell_type": "code",
   "execution_count": null,
   "id": "c109d6ec-8aff-4975-b510-783a1d1962db",
   "metadata": {},
   "outputs": [],
   "source": [
    "odi_path"
   ]
  },
  {
   "cell_type": "code",
   "execution_count": null,
   "id": "1b0829bf-dff4-46ca-a3f4-59ab76a7101f",
   "metadata": {},
   "outputs": [],
   "source": [
    "test_path"
   ]
  },
  {
   "cell_type": "code",
   "execution_count": null,
   "id": "1718373e-b968-4dd2-baaf-739d9ae2ae56",
   "metadata": {
    "scrolled": true
   },
   "outputs": [],
   "source": [
    "os.listdir(ipl_path)"
   ]
  },
  {
   "cell_type": "code",
   "execution_count": null,
   "id": "a9485463-b552-4b3e-ae7e-47ddea61d043",
   "metadata": {
    "scrolled": true
   },
   "outputs": [],
   "source": [
    "os.listdir(t20_path)"
   ]
  },
  {
   "cell_type": "code",
   "execution_count": null,
   "id": "d9ce5c68-4fef-479c-add5-057763284e54",
   "metadata": {
    "scrolled": true
   },
   "outputs": [],
   "source": [
    "os.listdir(odi_path)"
   ]
  },
  {
   "cell_type": "code",
   "execution_count": null,
   "id": "1059adc0-3182-44ba-9d4b-3313ab647389",
   "metadata": {
    "scrolled": true
   },
   "outputs": [],
   "source": [
    "os.listdir(test_path)"
   ]
  },
  {
   "cell_type": "markdown",
   "id": "62d713b6-5a3d-4736-a4f4-11e2e1abd513",
   "metadata": {},
   "source": [
    "## 2) JSON TO DataFrame"
   ]
  },
  {
   "cell_type": "markdown",
   "id": "62fdd6bd-592f-4495-88d5-839e96acc5a5",
   "metadata": {},
   "source": [
    "### IPL MATCHES"
   ]
  },
  {
   "cell_type": "code",
   "execution_count": null,
   "id": "c664ab0a-14f8-4c7c-a50f-77184ce70b9c",
   "metadata": {},
   "outputs": [],
   "source": [
    "base_dir = \"C:\\\\Users\\\\sathi\\\\Downloads\\\\PYTHON - GUVI\"\n",
    "folders = {\n",
    "    \"IPL\": os.path.join(base_dir, \"IPL\")\n",
    "}\n",
    "\n",
    "def flatten_match_data(data):\n",
    "    match_info = data.get(\"info\", {})\n",
    "    meta_info = data.get(\"meta\", {})\n",
    "\n",
    "    innings_data = []\n",
    "    for innings in data.get(\"innings\", []):\n",
    "        team = innings.get(\"team\", \"\")\n",
    "\n",
    "        innings_target = innings.get(\"target\", \"\")\n",
    "        innings_target_overs = innings.get(\"target_overs\", \"\")\n",
    "        innings_target_runs = innings.get(\"target_runs\", \"\")\n",
    "        \n",
    "        innings_powerplays = innings.get(\"powerplays\", [])\n",
    "\n",
    "        for over in innings.get(\"overs\", []):\n",
    "            over_number = over.get(\"over\", \"\")\n",
    "\n",
    "            for delivery in over.get(\"deliveries\", []):\n",
    "                row = {\n",
    "                    \"meta_data_version\": meta_info.get(\"data_version\", \"\"),\n",
    "                    \"meta_created\": meta_info.get(\"created\", \"\"),\n",
    "                    \"meta_revision\": meta_info.get(\"revision\", \"\"),\n",
    "                    \n",
    "                    \"info_city\": match_info.get(\"city\", \"\"),\n",
    "                    \"info_dates\": match_info.get(\"dates\", [\"\"])[0],  # Handle the array\n",
    "                    \"info_event_match_number\": match_info.get(\"event\", {}).get(\"match_number\", \"\"),\n",
    "                    \"info_event_name\": match_info.get(\"event\", {}).get(\"name\", \"\"),\n",
    "                    \"info_gender\": match_info.get(\"gender\", \"\"),\n",
    "                    \"info_match_type\": match_info.get(\"match_type\", \"\"),\n",
    "                    \"info_venue\": match_info.get(\"venue\", \"\"),\n",
    "                    \"info_outcome_winner\": match_info.get(\"outcome\", {}).get(\"winner\", \"\"),\n",
    "                    \"info_outcome_by_runs\": match_info.get(\"outcome\", {}).get(\"by\", {}).get(\"runs\", \"\"),\n",
    "                    \n",
    "                    \"info_players_team_1\": match_info.get(\"players\", {}).get(match_info.get(\"teams\", [])[0], []),  # First team\n",
    "                    \"info_players_team_2\": match_info.get(\"players\", {}).get(match_info.get(\"teams\", [])[1], []),  # Second team\n",
    "                    \n",
    "                    \"info_registry_people\": match_info.get(\"registry\", {}).get(\"people\", {}),  # Map dynamically\n",
    "                    \"info_season\": match_info.get(\"season\", \"\"),\n",
    "                    \"info_team_type\": match_info.get(\"team_type\", \"\"),\n",
    "                    \"info_teams\": match_info.get(\"teams\", []),\n",
    "                    \"info_toss_decision\": match_info.get(\"toss\", {}).get(\"decision\", \"\"),\n",
    "                    \"info_toss_winner\": match_info.get(\"toss\", {}).get(\"winner\", \"\"),\n",
    "                    \n",
    "                    \"innings_team\": team,\n",
    "                    \"innings_overs_over\": over_number,\n",
    "                    \"innings_overs_deliveries_batter\": delivery.get(\"batter\", \"\"),\n",
    "                    \"innings_overs_deliveries_bowler\": delivery.get(\"bowler\", \"\"),\n",
    "                    \"innings_overs_deliveries_non_striker\": delivery.get(\"non_striker\", \"\"),\n",
    "                    \"innings_overs_deliveries_runs_batter\": delivery.get(\"runs\", {}).get(\"batter\", \"\"),\n",
    "                    \"innings_overs_deliveries_runs_extras\": delivery.get(\"runs\", {}).get(\"extras\", \"\"),\n",
    "                    \"innings_overs_deliveries_runs_total\": delivery.get(\"runs\", {}).get(\"total\", \"\"),\n",
    "                    \n",
    "                    \"innings_target\": innings_target,\n",
    "                    \"innings_target_overs\": innings_target_overs,\n",
    "                    \"innings_target_runs\": innings_target_runs,\n",
    "                    \n",
    "                    \"innings_powerplays\": innings_powerplays,  # List of all powerplays\n",
    "                }\n",
    "\n",
    "                for i, powerplay in enumerate(innings_powerplays):\n",
    "                    row.update({\n",
    "                        f\"innings_powerplays_from_{i+1}\": powerplay.get(\"from\", \"\"),\n",
    "                        f\"innings_powerplays_to_{i+1}\": powerplay.get(\"to\", \"\"),\n",
    "                        f\"innings_powerplays_type_{i+1}\": powerplay.get(\"type\", \"\"),\n",
    "                    })\n",
    "\n",
    "                innings_data.append(row)\n",
    "\n",
    "    return innings_data\n",
    "\n",
    "for match_type, folder_path in folders.items():\n",
    "    all_data = []\n",
    "\n",
    "    for file_name in os.listdir(folder_path):\n",
    "        if file_name.endswith(\".json\"):\n",
    "            file_path = os.path.join(folder_path, file_name)\n",
    "\n",
    "            with open(file_path, \"r\", encoding=\"utf-8\") as file:\n",
    "                match_data = json.load(file)\n",
    "            \n",
    "            match_flattened = flatten_match_data(match_data)\n",
    "            all_data.extend(match_flattened)\n",
    "\n",
    "    df = pd.DataFrame(all_data)\n",
    "\n",
    "    csv_filename = f\"{match_type.lower()}_matches.csv\"\n",
    "    df.to_csv(csv_filename, index=False)\n",
    "    print(f\"✅ {csv_filename} saved successfully!\")"
   ]
  },
  {
   "cell_type": "code",
   "execution_count": null,
   "id": "51dc443b-e61e-44b1-9a5f-f70ada3c63b6",
   "metadata": {},
   "outputs": [],
   "source": [
    "ipl_data = pd.read_csv(\"ipl_matches.csv\")"
   ]
  },
  {
   "cell_type": "code",
   "execution_count": null,
   "id": "71726ad6-25fc-4c71-a484-d6aed1700200",
   "metadata": {},
   "outputs": [],
   "source": [
    "ipl_data.head()"
   ]
  },
  {
   "cell_type": "code",
   "execution_count": null,
   "id": "caa7b476-efe3-4486-941d-e0b205551542",
   "metadata": {},
   "outputs": [],
   "source": [
    "ipl_data.columns"
   ]
  },
  {
   "cell_type": "code",
   "execution_count": null,
   "id": "02cada35-f9af-48ec-b2e2-7e41bb73bdb3",
   "metadata": {
    "scrolled": true
   },
   "outputs": [],
   "source": [
    "ipl_data.values"
   ]
  },
  {
   "cell_type": "code",
   "execution_count": null,
   "id": "708702b9-1b10-455c-bc69-70c8cb83d3af",
   "metadata": {},
   "outputs": [],
   "source": [
    "ipl_data.info()"
   ]
  },
  {
   "cell_type": "code",
   "execution_count": null,
   "id": "315c3a4d-46af-4a01-86f4-c6b858ca78d4",
   "metadata": {},
   "outputs": [],
   "source": [
    "ipl_data.shape"
   ]
  },
  {
   "cell_type": "code",
   "execution_count": null,
   "id": "f3dfb32c-9048-4b20-a5f6-058d93fa02b5",
   "metadata": {},
   "outputs": [],
   "source": [
    "ipl_data.index"
   ]
  },
  {
   "cell_type": "code",
   "execution_count": null,
   "id": "81db1397-2f9f-4008-9cfa-b489ec5c2692",
   "metadata": {},
   "outputs": [],
   "source": [
    "type(ipl_data)"
   ]
  },
  {
   "cell_type": "markdown",
   "id": "d788f733-397a-4415-a556-bda1698fd6e3",
   "metadata": {},
   "source": [
    "### T20_INTERNATIONAL_MATCHES"
   ]
  },
  {
   "cell_type": "code",
   "execution_count": null,
   "id": "abad5487-f3f8-472e-8a39-9763f47cb099",
   "metadata": {},
   "outputs": [],
   "source": [
    "base_dir = \"C:\\\\Users\\\\sathi\\\\Downloads\\\\PYTHON - GUVI\"\n",
    "folders = {\n",
    "    \"T20\": os.path.join(base_dir, \"T20_INTERNATIONALS\")\n",
    "}\n",
    "\n",
    "def flatten_match_data(data):\n",
    "    match_info = data.get(\"info\", {})\n",
    "    meta_info = data.get(\"meta\", {})\n",
    "\n",
    "    innings_data = []\n",
    "    for innings in data.get(\"innings\", []):\n",
    "        team = innings.get(\"team\", \"\")\n",
    "\n",
    "        innings_target = innings.get(\"target\", \"\")\n",
    "        innings_target_overs = innings.get(\"target_overs\", \"\")\n",
    "        innings_target_runs = innings.get(\"target_runs\", \"\")\n",
    "        \n",
    "        innings_powerplays = innings.get(\"powerplays\", [])\n",
    "\n",
    "        for over in innings.get(\"overs\", []):\n",
    "            over_number = over.get(\"over\", \"\")\n",
    "\n",
    "            for delivery in over.get(\"deliveries\", []):\n",
    "                row = {\n",
    "                    \"meta_data_version\": meta_info.get(\"data_version\", \"\"),\n",
    "                    \"meta_created\": meta_info.get(\"created\", \"\"),\n",
    "                    \"meta_revision\": meta_info.get(\"revision\", \"\"),\n",
    "                    \n",
    "                    \"info_city\": match_info.get(\"city\", \"\"),\n",
    "                    \"info_dates\": match_info.get(\"dates\", [\"\"])[0],  # Handle the array\n",
    "                    \"info_event_match_number\": match_info.get(\"event\", {}).get(\"match_number\", \"\"),\n",
    "                    \"info_event_name\": match_info.get(\"event\", {}).get(\"name\", \"\"),\n",
    "                    \"info_gender\": match_info.get(\"gender\", \"\"),\n",
    "                    \"info_match_type\": match_info.get(\"match_type\", \"\"),\n",
    "                    \"info_venue\": match_info.get(\"venue\", \"\"),\n",
    "                    \"info_outcome_winner\": match_info.get(\"outcome\", {}).get(\"winner\", \"\"),\n",
    "                    \"info_outcome_by_runs\": match_info.get(\"outcome\", {}).get(\"by\", {}).get(\"runs\", \"\"),\n",
    "                    \n",
    "                    \"info_players_team_1\": match_info.get(\"players\", {}).get(match_info.get(\"teams\", [])[0], []),  # First team\n",
    "                    \"info_players_team_2\": match_info.get(\"players\", {}).get(match_info.get(\"teams\", [])[1], []),  # Second team\n",
    "                    \n",
    "                    \"info_registry_people\": match_info.get(\"registry\", {}).get(\"people\", {}),  # Map dynamically\n",
    "                    \"info_season\": match_info.get(\"season\", \"\"),\n",
    "                    \"info_team_type\": match_info.get(\"team_type\", \"\"),\n",
    "                    \"info_teams\": match_info.get(\"teams\", []),\n",
    "                    \"info_toss_decision\": match_info.get(\"toss\", {}).get(\"decision\", \"\"),\n",
    "                    \"info_toss_winner\": match_info.get(\"toss\", {}).get(\"winner\", \"\"),\n",
    "                    \n",
    "                    \"innings_team\": team,\n",
    "                    \"innings_overs_over\": over_number,\n",
    "                    \"innings_overs_deliveries_batter\": delivery.get(\"batter\", \"\"),\n",
    "                    \"innings_overs_deliveries_bowler\": delivery.get(\"bowler\", \"\"),\n",
    "                    \"innings_overs_deliveries_non_striker\": delivery.get(\"non_striker\", \"\"),\n",
    "                    \"innings_overs_deliveries_runs_batter\": delivery.get(\"runs\", {}).get(\"batter\", \"\"),\n",
    "                    \"innings_overs_deliveries_runs_extras\": delivery.get(\"runs\", {}).get(\"extras\", \"\"),\n",
    "                    \"innings_overs_deliveries_runs_total\": delivery.get(\"runs\", {}).get(\"total\", \"\"),\n",
    "                    \n",
    "                    \"innings_target\": innings_target,\n",
    "                    \"innings_target_overs\": innings_target_overs,\n",
    "                    \"innings_target_runs\": innings_target_runs,\n",
    "                    \n",
    "                    \"innings_powerplays\": innings_powerplays,  \n",
    "                }\n",
    "\n",
    "                for i, powerplay in enumerate(innings_powerplays):\n",
    "                    row.update({\n",
    "                        f\"innings_powerplays_from_{i+1}\": powerplay.get(\"from\", \"\"),\n",
    "                        f\"innings_powerplays_to_{i+1}\": powerplay.get(\"to\", \"\"),\n",
    "                        f\"innings_powerplays_type_{i+1}\": powerplay.get(\"type\", \"\"),\n",
    "                    })\n",
    "\n",
    "                innings_data.append(row)\n",
    "\n",
    "    return innings_data\n",
    "\n",
    "for match_type, folder_path in folders.items():\n",
    "    all_data = []\n",
    "\n",
    "    for file_name in os.listdir(folder_path):\n",
    "        if file_name.endswith(\".json\"):\n",
    "            file_path = os.path.join(folder_path, file_name)\n",
    "\n",
    "            with open(file_path, \"r\", encoding=\"utf-8\") as file:\n",
    "                match_data = json.load(file)\n",
    "            \n",
    "            match_flattened = flatten_match_data(match_data)\n",
    "            all_data.extend(match_flattened)\n",
    "\n",
    "    df = pd.DataFrame(all_data)\n",
    "\n",
    "    csv_filename = f\"{match_type.lower()}_matches.csv\"\n",
    "    df.to_csv(csv_filename, index=False)\n",
    "    print(f\"✅ {csv_filename} saved successfully!\")"
   ]
  },
  {
   "cell_type": "code",
   "execution_count": null,
   "id": "caba7c27-fba5-4552-905c-46e780a9ab8c",
   "metadata": {},
   "outputs": [],
   "source": [
    "t20_data = pd.read_csv(\"t20_matches.csv\")"
   ]
  },
  {
   "cell_type": "code",
   "execution_count": null,
   "id": "123b7c92-b95e-4c52-9127-f6862e895b11",
   "metadata": {},
   "outputs": [],
   "source": [
    "t20_data.head()"
   ]
  },
  {
   "cell_type": "code",
   "execution_count": null,
   "id": "bafd7a02-cebb-42fc-b0e3-0964609bb2b1",
   "metadata": {},
   "outputs": [],
   "source": [
    "t20_data.columns"
   ]
  },
  {
   "cell_type": "code",
   "execution_count": null,
   "id": "a9f5d1de-4d3d-4b37-a3a5-717daca4cc94",
   "metadata": {
    "scrolled": true
   },
   "outputs": [],
   "source": [
    "t20_data.values"
   ]
  },
  {
   "cell_type": "code",
   "execution_count": null,
   "id": "8cdc2dd7-a8db-459e-8495-cb7a00181a45",
   "metadata": {},
   "outputs": [],
   "source": [
    "t20_data.info()"
   ]
  },
  {
   "cell_type": "markdown",
   "id": "fbcc5e71-35ba-4c46-919e-e6cfa8a2a0dc",
   "metadata": {},
   "source": [
    "### ODI_MATHCES"
   ]
  },
  {
   "cell_type": "code",
   "execution_count": null,
   "id": "22c2ed91-c0d1-4833-a51d-bd3060db4444",
   "metadata": {},
   "outputs": [],
   "source": [
    "base_dir = \"C:\\\\Users\\\\sathi\\\\Downloads\\\\PYTHON - GUVI\"\n",
    "folders = {\n",
    "    \"ODI\": os.path.join(base_dir, \"ONE_DAY_INTERNATIONALS\")\n",
    "}\n",
    "\n",
    "def flatten_match_data(data):\n",
    "    match_info = data.get(\"info\", {})\n",
    "    meta_info = data.get(\"meta\", {})\n",
    "\n",
    "    innings_data = []\n",
    "    for innings in data.get(\"innings\", []):\n",
    "        team = innings.get(\"team\", \"\")\n",
    "\n",
    "        innings_target = innings.get(\"target\", \"\")\n",
    "        innings_target_overs = innings.get(\"target_overs\", \"\")\n",
    "        innings_target_runs = innings.get(\"target_runs\", \"\")\n",
    "        \n",
    "        innings_powerplays = innings.get(\"powerplays\", [])\n",
    "\n",
    "        for over in innings.get(\"overs\", []):\n",
    "            over_number = over.get(\"over\", \"\")\n",
    "\n",
    "            for delivery in over.get(\"deliveries\", []):\n",
    "                row = {\n",
    "                    \"meta_data_version\": meta_info.get(\"data_version\", \"\"),\n",
    "                    \"meta_created\": meta_info.get(\"created\", \"\"),\n",
    "                    \"meta_revision\": meta_info.get(\"revision\", \"\"),\n",
    "                    \n",
    "                    \"info_city\": match_info.get(\"city\", \"\"),\n",
    "                    \"info_dates\": match_info.get(\"dates\", [\"\"])[0],  # Handle the array\n",
    "                    \"info_event_match_number\": match_info.get(\"event\", {}).get(\"match_number\", \"\"),\n",
    "                    \"info_event_name\": match_info.get(\"event\", {}).get(\"name\", \"\"),\n",
    "                    \"info_gender\": match_info.get(\"gender\", \"\"),\n",
    "                    \"info_match_type\": match_info.get(\"match_type\", \"\"),\n",
    "                    \"info_venue\": match_info.get(\"venue\", \"\"),\n",
    "                    \"info_outcome_winner\": match_info.get(\"outcome\", {}).get(\"winner\", \"\"),\n",
    "                    \"info_outcome_by_runs\": match_info.get(\"outcome\", {}).get(\"by\", {}).get(\"runs\", \"\"),\n",
    "                    \n",
    "                    \"info_players_team_1\": match_info.get(\"players\", {}).get(match_info.get(\"teams\", [])[0], []),  # First team\n",
    "                    \"info_players_team_2\": match_info.get(\"players\", {}).get(match_info.get(\"teams\", [])[1], []),  # Second team\n",
    "                    \n",
    "                    \"info_registry_people\": match_info.get(\"registry\", {}).get(\"people\", {}),  # Map dynamically\n",
    "                    \"info_season\": match_info.get(\"season\", \"\"),\n",
    "                    \"info_team_type\": match_info.get(\"team_type\", \"\"),\n",
    "                    \"info_teams\": match_info.get(\"teams\", []),\n",
    "                    \"info_toss_decision\": match_info.get(\"toss\", {}).get(\"decision\", \"\"),\n",
    "                    \"info_toss_winner\": match_info.get(\"toss\", {}).get(\"winner\", \"\"),\n",
    "                    \n",
    "                    \"innings_team\": team,\n",
    "                    \"innings_overs_over\": over_number,\n",
    "                    \"innings_overs_deliveries_batter\": delivery.get(\"batter\", \"\"),\n",
    "                    \"innings_overs_deliveries_bowler\": delivery.get(\"bowler\", \"\"),\n",
    "                    \"innings_overs_deliveries_non_striker\": delivery.get(\"non_striker\", \"\"),\n",
    "                    \"innings_overs_deliveries_runs_batter\": delivery.get(\"runs\", {}).get(\"batter\", \"\"),\n",
    "                    \"innings_overs_deliveries_runs_extras\": delivery.get(\"runs\", {}).get(\"extras\", \"\"),\n",
    "                    \"innings_overs_deliveries_runs_total\": delivery.get(\"runs\", {}).get(\"total\", \"\"),\n",
    "                    \n",
    "                    \"innings_target\": innings_target,\n",
    "                    \"innings_target_overs\": innings_target_overs,\n",
    "                    \"innings_target_runs\": innings_target_runs,\n",
    "                    \n",
    "                    \"innings_powerplays\": innings_powerplays,  \n",
    "                }\n",
    "\n",
    "                for i, powerplay in enumerate(innings_powerplays):\n",
    "                    row.update({\n",
    "                        f\"innings_powerplays_from_{i+1}\": powerplay.get(\"from\", \"\"),\n",
    "                        f\"innings_powerplays_to_{i+1}\": powerplay.get(\"to\", \"\"),\n",
    "                        f\"innings_powerplays_type_{i+1}\": powerplay.get(\"type\", \"\"),\n",
    "                    })\n",
    "\n",
    "                innings_data.append(row)\n",
    "\n",
    "    return innings_data\n",
    "\n",
    "for match_type, folder_path in folders.items():\n",
    "    all_data = []\n",
    "\n",
    "    for file_name in os.listdir(folder_path):\n",
    "        if file_name.endswith(\".json\"):\n",
    "            file_path = os.path.join(folder_path, file_name)\n",
    "\n",
    "            with open(file_path, \"r\", encoding=\"utf-8\") as file:\n",
    "                match_data = json.load(file)\n",
    "            \n",
    "            match_flattened = flatten_match_data(match_data)\n",
    "            all_data.extend(match_flattened)\n",
    "\n",
    "    df = pd.DataFrame(all_data)\n",
    "\n",
    "    csv_filename = f\"{match_type.lower()}_matches.csv\"\n",
    "    df.to_csv(csv_filename, index=False)\n",
    "    print(f\"✅ {csv_filename} saved successfully!\")"
   ]
  },
  {
   "cell_type": "code",
   "execution_count": null,
   "id": "d4bc8d51-7b38-404b-80f0-b62ed5f288d1",
   "metadata": {},
   "outputs": [],
   "source": [
    "odi_data = pd.read_csv(\"odi_matches.csv\")"
   ]
  },
  {
   "cell_type": "code",
   "execution_count": null,
   "id": "2b84f3a4-7347-4d5c-85f0-fc2ccc2fb5a3",
   "metadata": {},
   "outputs": [],
   "source": [
    "odi_data.head()"
   ]
  },
  {
   "cell_type": "code",
   "execution_count": null,
   "id": "df516d45-bb8c-483a-b2eb-9567b773e4bc",
   "metadata": {},
   "outputs": [],
   "source": [
    "odi_data.columns"
   ]
  },
  {
   "cell_type": "code",
   "execution_count": null,
   "id": "1577b8f3-750b-4ea0-af52-5b5135b67dca",
   "metadata": {},
   "outputs": [],
   "source": [
    "odi_data.values"
   ]
  },
  {
   "cell_type": "code",
   "execution_count": null,
   "id": "a7bbbf73-ce3b-41a0-bca5-42fc82e98c80",
   "metadata": {},
   "outputs": [],
   "source": [
    "odi_data.info()"
   ]
  },
  {
   "cell_type": "markdown",
   "id": "1d01185f-f14d-4264-ab30-0921c2ac583c",
   "metadata": {},
   "source": [
    "### TEST_MATCHES"
   ]
  },
  {
   "cell_type": "code",
   "execution_count": null,
   "id": "15b9cb03-dc9a-4fa2-81b9-731118429035",
   "metadata": {},
   "outputs": [],
   "source": [
    "base_dir = \"C:\\\\Users\\\\sathi\\\\Downloads\\\\PYTHON - GUVI\"\n",
    "folders = {\n",
    "    \"TEST\": os.path.join(base_dir, \"TEST_MATCHES\"),\n",
    "}\n",
    "\n",
    "def flatten_match_data(data):\n",
    "    match_info = data.get(\"info\", {})\n",
    "    meta_info = data.get(\"meta\", {})\n",
    "\n",
    "    innings_data = []\n",
    "    for innings in data.get(\"innings\", []):\n",
    "        team = innings.get(\"team\", \"\")\n",
    "\n",
    "        innings_target = innings.get(\"target\", \"\")\n",
    "        innings_target_overs = innings.get(\"target_overs\", \"\")\n",
    "        innings_target_runs = innings.get(\"target_runs\", \"\")\n",
    "        \n",
    "        innings_powerplays = innings.get(\"powerplays\", [])\n",
    "\n",
    "        for over in innings.get(\"overs\", []):\n",
    "            over_number = over.get(\"over\", \"\")\n",
    "\n",
    "            for delivery in over.get(\"deliveries\", []):\n",
    "                row = {\n",
    "                    \"meta_data_version\": meta_info.get(\"data_version\", \"\"),\n",
    "                    \"meta_created\": meta_info.get(\"created\", \"\"),\n",
    "                    \"meta_revision\": meta_info.get(\"revision\", \"\"),\n",
    "                    \n",
    "                    \"info_city\": match_info.get(\"city\", \"\"),\n",
    "                    \"info_dates\": match_info.get(\"dates\", [\"\"])[0],\n",
    "                    \"info_event_match_number\": match_info.get(\"event\", {}).get(\"match_number\", \"\"),\n",
    "                    \"info_event_name\": match_info.get(\"event\", {}).get(\"name\", \"\"),\n",
    "                    \"info_gender\": match_info.get(\"gender\", \"\"),\n",
    "                    \"info_match_type\": match_info.get(\"match_type\", \"\"),\n",
    "                    \"info_venue\": match_info.get(\"venue\", \"\"),\n",
    "                    \"info_outcome_winner\": match_info.get(\"outcome\", {}).get(\"winner\", \"\"),\n",
    "                    \"info_outcome_by_runs\": match_info.get(\"outcome\", {}).get(\"by\", {}).get(\"runs\", \"\"),\n",
    "                    \n",
    "                    \"info_players_team_1\": match_info.get(\"players\", {}).get(match_info.get(\"teams\", [])[0], []),  \n",
    "                    \"info_players_team_2\": match_info.get(\"players\", {}).get(match_info.get(\"teams\", [])[1], []), \n",
    "                    \n",
    "                    \"info_registry_people\": match_info.get(\"registry\", {}).get(\"people\", {}), \n",
    "                    \"info_season\": match_info.get(\"season\", \"\"),\n",
    "                    \"info_team_type\": match_info.get(\"team_type\", \"\"),\n",
    "                    \"info_teams\": match_info.get(\"teams\", []),\n",
    "                    \"info_toss_decision\": match_info.get(\"toss\", {}).get(\"decision\", \"\"),\n",
    "                    \"info_toss_winner\": match_info.get(\"toss\", {}).get(\"winner\", \"\"),\n",
    "                    \n",
    "                    \"innings_team\": team,\n",
    "                    \"innings_overs_over\": over_number,\n",
    "                    \"innings_overs_deliveries_batter\": delivery.get(\"batter\", \"\"),\n",
    "                    \"innings_overs_deliveries_bowler\": delivery.get(\"bowler\", \"\"),\n",
    "                    \"innings_overs_deliveries_non_striker\": delivery.get(\"non_striker\", \"\"),\n",
    "                    \"innings_overs_deliveries_runs_batter\": delivery.get(\"runs\", {}).get(\"batter\", \"\"),\n",
    "                    \"innings_overs_deliveries_runs_extras\": delivery.get(\"runs\", {}).get(\"extras\", \"\"),\n",
    "                    \"innings_overs_deliveries_runs_total\": delivery.get(\"runs\", {}).get(\"total\", \"\"),\n",
    "                }\n",
    "\n",
    "                if match_info.get(\"match_type\") != \"TEST\":\n",
    "                    row.update({\n",
    "                        \"innings_target\": innings_target,\n",
    "                        \"innings_target_overs\": innings_target_overs,\n",
    "                        \"innings_target_runs\": innings_target_runs,\n",
    "                    })\n",
    "                    row[\"innings_powerplays\"] = innings_powerplays  \n",
    "                    \n",
    "                    for i, powerplay in enumerate(innings_powerplays):\n",
    "                        row.update({\n",
    "                            f\"innings_powerplays_from_{i+1}\": powerplay.get(\"from\", \"\"),\n",
    "                            f\"innings_powerplays_to_{i+1}\": powerplay.get(\"to\", \"\"),\n",
    "                            f\"innings_powerplays_type_{i+1}\": powerplay.get(\"type\", \"\"),\n",
    "                        })\n",
    "\n",
    "                innings_data.append(row)\n",
    "\n",
    "    return innings_data\n",
    "\n",
    "for match_type, folder_path in folders.items():\n",
    "    all_data = []\n",
    "\n",
    "    for file_name in os.listdir(folder_path):\n",
    "        if file_name.endswith(\".json\"):\n",
    "            file_path = os.path.join(folder_path, file_name)\n",
    "\n",
    "            with open(file_path, \"r\", encoding=\"utf-8\") as file:\n",
    "                match_data = json.load(file)\n",
    "            \n",
    "            match_flattened = flatten_match_data(match_data)\n",
    "            all_data.extend(match_flattened)\n",
    "\n",
    "    df = pd.DataFrame(all_data)\n",
    "\n",
    "    csv_filename = f\"{match_type.lower()}_matches.csv\"\n",
    "    df.to_csv(csv_filename, index=False)\n",
    "    print(f\"✅ {csv_filename} saved successfully!\")"
   ]
  },
  {
   "cell_type": "code",
   "execution_count": null,
   "id": "2a9a29b1-100f-4de7-b78f-56ac5e3f3c19",
   "metadata": {},
   "outputs": [],
   "source": [
    "test_data = pd.read_csv(\"test_matches.csv\")"
   ]
  },
  {
   "cell_type": "code",
   "execution_count": null,
   "id": "766b414c-a078-4374-bc9a-e3dc32364341",
   "metadata": {},
   "outputs": [],
   "source": [
    "test_data.head()"
   ]
  },
  {
   "cell_type": "code",
   "execution_count": null,
   "id": "3f8d844e-3edb-4fe5-a445-e8f66f443c35",
   "metadata": {},
   "outputs": [],
   "source": [
    "test_data.columns"
   ]
  },
  {
   "cell_type": "code",
   "execution_count": null,
   "id": "d274eca1-6aec-4f0c-aa78-97a1c6ca5219",
   "metadata": {},
   "outputs": [],
   "source": [
    "test_data.values"
   ]
  },
  {
   "cell_type": "code",
   "execution_count": null,
   "id": "924e64a8-7588-4bf6-acd9-e7fe5f56760d",
   "metadata": {},
   "outputs": [],
   "source": [
    "test_data.info()"
   ]
  },
  {
   "cell_type": "markdown",
   "id": "b1eb4551-da26-419f-861e-50561f7828c1",
   "metadata": {},
   "source": [
    "## 3) SQL INSERTION"
   ]
  },
  {
   "cell_type": "markdown",
   "id": "ed6be6b5-b52e-418f-bb5b-a25cad1a537c",
   "metadata": {},
   "source": [
    "### INSERTING DATA INTO SQL TABLES"
   ]
  },
  {
   "cell_type": "markdown",
   "id": "13b871aa-145b-4383-9e5c-714c5bc0e09c",
   "metadata": {},
   "source": [
    "#### INSTALL REQUIRED PACKAGES"
   ]
  },
  {
   "cell_type": "code",
   "execution_count": null,
   "id": "68cce338-fbc1-4884-a10d-f3f660acc306",
   "metadata": {},
   "outputs": [],
   "source": [
    "!pip install pandas mysql-connector-python sqlalchemy"
   ]
  },
  {
   "cell_type": "markdown",
   "id": "84107259-52d2-4067-852b-ceed779fbdce",
   "metadata": {},
   "source": [
    "#### IPL_MATCHES"
   ]
  },
  {
   "cell_type": "code",
   "execution_count": null,
   "id": "9e1651ee-5dd4-459f-a7da-5484392dbc03",
   "metadata": {},
   "outputs": [],
   "source": [
    "from sqlalchemy import create_engine\n",
    "from urllib.parse import quote_plus\n",
    "import ast \n",
    "\n",
    "DB_CONFIG = {\n",
    "    \"host\": \"localhost\",\n",
    "    \"user\": \"root\",\n",
    "    \"password\": \"SathishMyilsamy@21601\",\n",
    "    \"database\": \"cricsheet_db\"\n",
    "}\n",
    "\n",
    "encoded_password = quote_plus(DB_CONFIG[\"password\"])\n",
    "\n",
    "engine = create_engine(f\"mysql+mysqlconnector://{DB_CONFIG['user']}:{encoded_password}@{DB_CONFIG['host']}/{DB_CONFIG['database']}\")\n",
    "\n",
    "file_path = r\"C:\\Users\\sathi\\Downloads\\PYTHON - GUVI\\ipl_matches.csv\"\n",
    "ipl_df = pd.read_csv(file_path)\n",
    "\n",
    "ipl_df['info_season'] = ipl_df['info_season'].apply(lambda x: None if pd.isna(x) or len(str(x)) == 0 else str(x).strip())\n",
    "\n",
    "ipl_df['info_season'] = ipl_df['info_season'].apply(lambda x: str(x)[:255] if x and len(str(x)) > 255 else x)\n",
    "\n",
    "def clean_innings_target(value):\n",
    "    if isinstance(value, str):\n",
    "        try:\n",
    "            target_dict = ast.literal_eval(value)\n",
    "            return target_dict.get('runs', None)  \n",
    "        except (ValueError, SyntaxError):\n",
    "            return None\n",
    "    return value\n",
    "\n",
    "ipl_df['innings_target'] = ipl_df['innings_target'].apply(clean_innings_target)\n",
    "\n",
    "try:\n",
    "    ipl_df.to_sql(\"IPL_MATCHES\", con=engine, if_exists=\"append\", index=False, chunksize=1000)\n",
    "    print(\"✅ CSV data successfully inserted into MySQL!\")\n",
    "except Exception as e:\n",
    "    print(f\"Error: {e}\")\n"
   ]
  },
  {
   "cell_type": "markdown",
   "id": "d1053324-f805-4b1b-a2dc-5e9da813d605",
   "metadata": {},
   "source": [
    "#### ODI_MATCHES"
   ]
  },
  {
   "cell_type": "code",
   "execution_count": null,
   "id": "666e7f4c-78a7-41d1-94e4-5006234c14f9",
   "metadata": {},
   "outputs": [],
   "source": [
    "from sqlalchemy import create_engine\n",
    "from urllib.parse import quote_plus\n",
    "import ast \n",
    "\n",
    "DB_CONFIG = {\n",
    "    \"host\": \"localhost\",\n",
    "    \"user\": \"root\",\n",
    "    \"password\": \"SathishMyilsamy@21601\",\n",
    "    \"database\": \"cricsheet_db\"\n",
    "}\n",
    "\n",
    "encoded_password = quote_plus(DB_CONFIG[\"password\"])\n",
    "\n",
    "engine = create_engine(f\"mysql+mysqlconnector://{DB_CONFIG['user']}:{encoded_password}@{DB_CONFIG['host']}/{DB_CONFIG['database']}\")\n",
    "\n",
    "file_path = r\"C:\\Users\\sathi\\Downloads\\PYTHON - GUVI\\odi_matches.csv\"\n",
    "odi_df = pd.read_csv(file_path)\n",
    "\n",
    "odi_df['info_season'] = odi_df['info_season'].apply(lambda x: None if pd.isna(x) or len(str(x)) == 0 else str(x).strip())\n",
    "\n",
    "odi_df['info_season'] = odi_df['info_season'].apply(lambda x: str(x)[:255] if x and len(str(x)) > 255 else x)\n",
    "\n",
    "def clean_innings_target(value):\n",
    "    if isinstance(value, str):\n",
    "        try:\n",
    "            target_dict = ast.literal_eval(value)\n",
    "            return target_dict.get('runs', None)  \n",
    "        except (ValueError, SyntaxError):\n",
    "            return None\n",
    "    return value\n",
    "\n",
    "odi_df['innings_target'] = odi_df['innings_target'].apply(clean_innings_target)\n",
    "\n",
    "try:\n",
    "    odi_df.to_sql(\"ODI_MATCHES\", con=engine, if_exists=\"append\", index=False, chunksize=1000)\n",
    "    print(\"✅ CSV data successfully inserted into MySQL!\")\n",
    "except Exception as e:\n",
    "    print(f\"Error: {e}\")"
   ]
  },
  {
   "cell_type": "markdown",
   "id": "81d28e30-3f22-4121-9096-2c756da5ddd8",
   "metadata": {},
   "source": [
    "#### T20_MATCHES"
   ]
  },
  {
   "cell_type": "code",
   "execution_count": null,
   "id": "57c6d83f-69fe-40b0-a152-a0a2ab93a3d1",
   "metadata": {},
   "outputs": [],
   "source": [
    "from sqlalchemy import create_engine\n",
    "from urllib.parse import quote_plus\n",
    "import ast  \n",
    "\n",
    "DB_CONFIG = {\n",
    "    \"host\": \"localhost\",\n",
    "    \"user\": \"root\",\n",
    "    \"password\": \"SathishMyilsamy@21601\",\n",
    "    \"database\": \"cricsheet_db\"\n",
    "}\n",
    "\n",
    "encoded_password = quote_plus(DB_CONFIG[\"password\"])\n",
    "\n",
    "engine = create_engine(f\"mysql+mysqlconnector://{DB_CONFIG['user']}:{encoded_password}@{DB_CONFIG['host']}/{DB_CONFIG['database']}\")\n",
    "\n",
    "file_path = r\"C:\\Users\\sathi\\Downloads\\PYTHON - GUVI\\t20_matches.csv\"\n",
    "t20_df = pd.read_csv(file_path)\n",
    "\n",
    "t20_df['info_season'] = t20_df['info_season'].apply(lambda x: None if pd.isna(x) or len(str(x)) == 0 else str(x).strip())\n",
    "\n",
    "t20_df['info_season'] = t20_df['info_season'].apply(lambda x: str(x)[:255] if x and len(str(x)) > 255 else x)\n",
    "\n",
    "def clean_innings_target(value):\n",
    "    if isinstance(value, str):\n",
    "        try:\n",
    "            target_dict = ast.literal_eval(value)\n",
    "            return target_dict.get('runs', None) \n",
    "        except (ValueError, SyntaxError):\n",
    "            return None\n",
    "    return value\n",
    "\n",
    "t20_df['innings_target'] = t20_df['innings_target'].apply(clean_innings_target)\n",
    "\n",
    "try:\n",
    "    t20_df.to_sql(\"T20_MATCHES\", con=engine, if_exists=\"append\", index=False, chunksize=1000)\n",
    "    print(\"✅ CSV data successfully inserted into MySQL!\")\n",
    "except Exception as e:\n",
    "    print(f\"Error: {e}\")"
   ]
  },
  {
   "cell_type": "markdown",
   "id": "28580cb3-b8b1-4add-8bf0-35f17f266624",
   "metadata": {},
   "source": [
    "#### TEST_MATCHES"
   ]
  },
  {
   "cell_type": "code",
   "execution_count": null,
   "id": "4b85ffe0-1976-469d-b759-ae13f01b79c9",
   "metadata": {},
   "outputs": [],
   "source": [
    "from sqlalchemy import create_engine\n",
    "from urllib.parse import quote_plus\n",
    "import ast \n",
    "\n",
    "DB_CONFIG = {\n",
    "    \"host\": \"localhost\",\n",
    "    \"user\": \"root\",\n",
    "    \"password\": \"SathishMyilsamy@21601\",\n",
    "    \"database\": \"cricsheet_db\"\n",
    "}\n",
    "\n",
    "encoded_password = quote_plus(DB_CONFIG[\"password\"])\n",
    "\n",
    "engine = create_engine(f\"mysql+mysqlconnector://{DB_CONFIG['user']}:{encoded_password}@{DB_CONFIG['host']}/{DB_CONFIG['database']}\")\n",
    "\n",
    "file_path = r\"C:\\Users\\sathi\\Downloads\\PYTHON - GUVI\\test_matches.csv\"\n",
    "test_df = pd.read_csv(file_path)\n",
    "\n",
    "test_df['info_season'] = test_df['info_season'].apply(lambda x: None if pd.isna(x) or len(str(x)) == 0 else str(x).strip())\n",
    "\n",
    "test_df['info_season'] = test_df['info_season'].apply(lambda x: str(x)[:255] if x and len(str(x)) > 255 else x)\n",
    "\n",
    "def clean_innings_target(value):\n",
    "    if isinstance(value, str):\n",
    "        try:\n",
    "            target_dict = ast.literal_eval(value)\n",
    "            return target_dict.get('runs', None) \n",
    "        except (ValueError, SyntaxError):\n",
    "            return None  \n",
    "    return value if value != '' else None  \n",
    "\n",
    "if 'innings_target' in test_df.columns:\n",
    "    test_df['innings_target'] = test_df['innings_target'].apply(clean_innings_target)\n",
    "\n",
    "def clean_powerplays(value):\n",
    "    if isinstance(value, str):\n",
    "        try:\n",
    "            powerplay_dict = ast.literal_eval(value)\n",
    "            return powerplay_dict.get('overs', None)\n",
    "        except (ValueError, SyntaxError):\n",
    "            return None  \n",
    "    return value if value != '' else None \n",
    "\n",
    "if 'powerplays' in test_df.columns:\n",
    "    test_df['powerplays'] = test_df['powerplays'].apply(clean_powerplays)\n",
    "\n",
    "table_columns = pd.read_sql(\"SHOW COLUMNS FROM TEST_MATCHES\", con=engine)\n",
    "existing_columns = [col[0] for col in table_columns.values]\n",
    "\n",
    "test_df = test_df[existing_columns]\n",
    "\n",
    "try:\n",
    "    test_df.to_sql(\"TEST_MATCHES\", con=engine, if_exists=\"append\", index=False, chunksize=1000)\n",
    "    print(\"✅ CSV data successfully inserted into MySQL!\")\n",
    "except Exception as e:\n",
    "    print(f\"Error: {e}\")"
   ]
  },
  {
   "cell_type": "markdown",
   "id": "bb27a284-c846-4c79-b776-52d2dd3ef66f",
   "metadata": {},
   "source": [
    "## 4) QUERY IN MySQL_DB - CREATE SQL DATABASE AND TABLES"
   ]
  },
  {
   "cell_type": "markdown",
   "id": "512ea0f4-4e38-4d89-a108-602341203b74",
   "metadata": {},
   "source": [
    "## 5) QUERY IN MySQL_DB - 20+ SQL QUERIES FOR DATA ANALYSIS "
   ]
  },
  {
   "cell_type": "markdown",
   "id": "5a99223d-d581-4afa-9435-c617ad978cdc",
   "metadata": {},
   "source": [
    "## 6) EXPLORATORY DATA ANAYSIS"
   ]
  },
  {
   "cell_type": "markdown",
   "id": "2e0ce34e-7305-4a93-940b-ea9ae3334dc2",
   "metadata": {},
   "source": [
    "### INSTALL REQUIRED PACKAGES"
   ]
  },
  {
   "cell_type": "code",
   "execution_count": null,
   "id": "5709974b-3e97-4398-98fb-8235f2688a5e",
   "metadata": {},
   "outputs": [],
   "source": [
    "!pip install matplotlib seaborn plotly"
   ]
  },
  {
   "cell_type": "markdown",
   "id": "b4efe63a-5c88-489d-bab3-3125eccc40f0",
   "metadata": {},
   "source": [
    "### IMPORT REQUIRED PACKAGES"
   ]
  },
  {
   "cell_type": "code",
   "execution_count": null,
   "id": "0f8d26a3-f2a8-435a-9abf-15ddead87034",
   "metadata": {},
   "outputs": [],
   "source": [
    "import seaborn as sns\n",
    "import matplotlib.pyplot as plt\n",
    "import plotly.express as px\n",
    "import numpy as np\n",
    "import plotly.figure_factory as ff\n",
    "from pathlib import Path"
   ]
  },
  {
   "cell_type": "markdown",
   "id": "3249109b-d5c2-44f1-91c6-e705c7cc59cd",
   "metadata": {},
   "source": [
    "## 1. IPL_MATCHES"
   ]
  },
  {
   "cell_type": "code",
   "execution_count": null,
   "id": "c64e845a-369a-467b-b2ad-c2426dea4f81",
   "metadata": {},
   "outputs": [],
   "source": [
    "file_path = r\"C:\\Users\\sathi\\Downloads\\PYTHON - GUVI\\ipl_matches.csv\"\n",
    "ipl_df = pd.read_csv(file_path)\n",
    "\n",
    "ipl_df['meta_created'] = pd.to_datetime(ipl_df['meta_created'], errors='coerce')\n",
    "\n",
    "ipl_df.fillna(0, inplace=True)\n",
    "\n",
    "ipl_df.drop_duplicates(inplace=True)\n",
    "\n",
    "ipl_filtered = ipl_df[(ipl_df[\"innings_overs_deliveries_runs_total\"] < ipl_df[\"innings_overs_deliveries_runs_total\"].quantile(0.95))]\n",
    "\n",
    "ipl_sampled = ipl_filtered.sample(n=5000, random_state=42)\n",
    "\n",
    "ipl_df_filtered = ipl_sampled"
   ]
  },
  {
   "cell_type": "markdown",
   "id": "4ba6e228-61ba-4856-aa5f-92d9d27f16f4",
   "metadata": {},
   "source": [
    "### Horizontal Bar Plot for Toss Winner Distribution"
   ]
  },
  {
   "cell_type": "code",
   "execution_count": null,
   "id": "5c5c0fb7-c7ba-4ae1-bc28-22fde7ce6f7c",
   "metadata": {},
   "outputs": [],
   "source": [
    "toss_winner_counts = ipl_df_filtered['info_toss_winner'].value_counts().sort_values(ascending=False).reset_index()\n",
    "toss_winner_counts.columns = ['Toss Winner', 'Number of Wins']\n",
    "\n",
    "fig_1 = px.bar(\n",
    "    toss_winner_counts,\n",
    "    x='Number of Wins',\n",
    "    y='Toss Winner',\n",
    "    orientation='h',\n",
    "    color='Toss Winner',\n",
    "    color_discrete_sequence=px.colors.qualitative.Set1, \n",
    "    title=\"Toss Winner Distribution Across Teams\",\n",
    "    labels={'Toss Winner': 'Toss Winner Teams', 'Number of Wins': 'Number of Wins'}\n",
    ")\n",
    "\n",
    "fig_1.update_layout(\n",
    "    title_x=0.5, \n",
    "    bargap=0.3,  \n",
    "    height=800,  \n",
    "    margin=dict(l=150, r=20, t=50, b=50),  \n",
    "    yaxis=dict(tickmode='array', tickvals=toss_winner_counts['Toss Winner']),  \n",
    ")\n",
    "\n",
    "fig_1.show()"
   ]
  },
  {
   "cell_type": "markdown",
   "id": "4d017cbb-b983-490e-8d7c-4bf5bad4c702",
   "metadata": {},
   "source": [
    "### Bar Plot for Outcome by Runs"
   ]
  },
  {
   "cell_type": "code",
   "execution_count": null,
   "id": "aba7fdf3-1865-4c5e-ae28-06bbac6b03aa",
   "metadata": {},
   "outputs": [],
   "source": [
    "outcome_by_runs = ipl_df_filtered.groupby('info_outcome_winner')['info_outcome_by_runs'].sum()\n",
    "\n",
    "outcome_by_runs = outcome_by_runs.sort_values(ascending=False)\n",
    "\n",
    "colors = plt.cm.get_cmap('tab20', len(outcome_by_runs))\n",
    "\n",
    "fig_2, ax = plt.subplots(figsize=(14, 8))\n",
    "\n",
    "bars = outcome_by_runs.plot(kind='bar', color=colors(range(len(outcome_by_runs))), ax=ax)\n",
    "\n",
    "ax.set_xlabel(\"Winner Teams\", fontsize=14)\n",
    "\n",
    "ax.set_ylabel(\"Total Runs Won By\", fontsize=14)\n",
    "\n",
    "ax.set_title(\"Outcome by Runs (Winner Distribution)\", fontsize=16)\n",
    "\n",
    "ax.set_xticklabels(outcome_by_runs.index, rotation=45)\n",
    "\n",
    "handles = [plt.Rectangle((0, 0), 1, 1, color=colors(i)) for i in range(len(outcome_by_runs))]\n",
    "\n",
    "ax.legend(handles, outcome_by_runs.index, title=\"Winner Teams\")\n",
    "\n",
    "plt.show()"
   ]
  },
  {
   "cell_type": "markdown",
   "id": "63c25db3-fec5-4e82-b2e3-51818e952ffd",
   "metadata": {},
   "source": [
    "### Line Plot for Runs vs Overs Played"
   ]
  },
  {
   "cell_type": "code",
   "execution_count": null,
   "id": "857cc6c3-01a7-4c82-ae5f-cb7cb2ea1607",
   "metadata": {},
   "outputs": [],
   "source": [
    "# fig_3\n",
    "specific_team = 'Mumbai Indians'  \n",
    "\n",
    "team_data = ipl_df_filtered[ipl_df_filtered['info_teams'].str.contains(specific_team)]\n",
    "\n",
    "plt.figure(figsize=(14, 8))\n",
    "\n",
    "sns.lineplot(x='innings_overs_over', y='innings_overs_deliveries_runs_total', data=team_data, \n",
    "             marker='o', linestyle='-', color='green')\n",
    "\n",
    "plt.xlabel(\"Overs Played\", fontsize=14)\n",
    "\n",
    "plt.ylabel(\"Total Runs\", fontsize=14)\n",
    "\n",
    "plt.title(f\"Runs vs Overs Played for {specific_team}\", fontsize=16)\n",
    "\n",
    "plt.show()"
   ]
  },
  {
   "cell_type": "markdown",
   "id": "a3f0433b-e04d-4f71-a51e-a6b8b3ce1fca",
   "metadata": {},
   "source": [
    "### Bar Plot for Runs by Season"
   ]
  },
  {
   "cell_type": "code",
   "execution_count": null,
   "id": "b008685a-be65-452a-8586-1f741605e7a5",
   "metadata": {},
   "outputs": [],
   "source": [
    "season_runs = ipl_df_filtered.groupby('info_season')['innings_overs_deliveries_runs_total'].sum()\n",
    "\n",
    "season_runs = season_runs.sort_values(ascending=True)\n",
    "\n",
    "colors = plt.cm.get_cmap('tab20', len(season_runs))\n",
    "\n",
    "fig_4, ax = plt.subplots(figsize=(14, 8))\n",
    "\n",
    "bars = season_runs.plot(kind='bar', color=colors(range(len(season_runs))), ax=ax)\n",
    "\n",
    "ax.set_xlabel(\"Season\", fontsize=14)\n",
    "\n",
    "ax.set_ylabel(\"Total Runs\", fontsize=14)\n",
    "\n",
    "ax.set_title(\"Total Runs by Season\", fontsize=16)\n",
    "\n",
    "ax.set_xticklabels(season_runs.index, rotation=45)\n",
    "\n",
    "plt.show()"
   ]
  },
  {
   "cell_type": "markdown",
   "id": "b3bb68c3-ece3-4b6b-b5fe-e3b489b8edc3",
   "metadata": {},
   "source": [
    "### Pie Chart for Toss Decision "
   ]
  },
  {
   "cell_type": "code",
   "execution_count": null,
   "id": "bbf29ec0-b814-4d57-8bc7-1d11ab352910",
   "metadata": {},
   "outputs": [],
   "source": [
    "toss_decision_counts = ipl_df_filtered['info_toss_decision'].value_counts().reset_index()\n",
    "\n",
    "toss_decision_counts.columns = ['Toss Decision', 'Count']\n",
    "\n",
    "fig_5 = px.pie(\n",
    "    toss_decision_counts,\n",
    "    names='Toss Decision',\n",
    "    values='Count',\n",
    "    title=\"Distribution of Toss Decisions\",\n",
    "    color='Toss Decision',\n",
    "    color_discrete_sequence=px.colors.qualitative.Set2,  # Unique colors\n",
    "    labels={'Toss Decision': 'Toss Decision', 'Count': 'Count'}\n",
    ")\n",
    "\n",
    "fig_5.update_layout(\n",
    "    title=\"Distribution of Toss Decisions\",\n",
    "    title_x=0.5, \n",
    "    height=600    \n",
    ")\n",
    "\n",
    "fig_5.show()"
   ]
  },
  {
   "cell_type": "markdown",
   "id": "0e6edd91-4fba-4a2e-949f-898749dd9d9d",
   "metadata": {},
   "source": [
    "### Pie Chart for Most Extra Runs Conceded by Teams"
   ]
  },
  {
   "cell_type": "code",
   "execution_count": null,
   "id": "4ab292e1-a857-4768-b0ed-e5e4c4b44012",
   "metadata": {},
   "outputs": [],
   "source": [
    "extra_runs_by_team = ipl_df_filtered.groupby('innings_team')['innings_overs_deliveries_runs_extras'].sum().sort_values(ascending=False).head(10).reset_index()\n",
    "\n",
    "extra_runs_by_team.columns = ['Team', 'Total Extra Runs']\n",
    "\n",
    "fig_6 = px.pie(\n",
    "    extra_runs_by_team,\n",
    "    names='Team',\n",
    "    values='Total Extra Runs',\n",
    "    title=\"Most Extra Runs Conceded by Teams\",\n",
    "    color='Team',\n",
    "    color_discrete_sequence=px.colors.qualitative.Set3\n",
    ")\n",
    "\n",
    "fig_6.update_layout(\n",
    "    title_x=0.5,\n",
    "    height=600\n",
    ")\n",
    "\n",
    "fig_6.show()"
   ]
  },
  {
   "cell_type": "markdown",
   "id": "f1ea5cfe-75a5-48b3-868e-b7527e238481",
   "metadata": {},
   "source": [
    "### KDE Plot of Batter Runs Distribution"
   ]
  },
  {
   "cell_type": "code",
   "execution_count": null,
   "id": "55ba34c2-2c69-4b75-aeda-89f451c7f456",
   "metadata": {},
   "outputs": [],
   "source": [
    "# fig_7\n",
    "plt.figure(figsize=(14, 8))\n",
    "\n",
    "sns.kdeplot(ipl_df_filtered['innings_overs_deliveries_runs_batter'], shade=True, color=\"darkblue\", alpha=0.7)\n",
    "\n",
    "plt.xlabel(\"Batter Runs\", fontsize=14)\n",
    "\n",
    "plt.ylabel(\"Density\", fontsize=14)\n",
    "\n",
    "plt.title(\"KDE Plot of Batter Runs Distribution\", fontsize=16)\n",
    "\n",
    "plt.show()"
   ]
  },
  {
   "cell_type": "markdown",
   "id": "dd1f89fa-a12b-4d99-a1ca-9ed01d924094",
   "metadata": {},
   "source": [
    "### Donut Chart of Match Outcome Distribution"
   ]
  },
  {
   "cell_type": "code",
   "execution_count": null,
   "id": "a0b69a04-07f7-42b2-9a5a-c2fa0cde3315",
   "metadata": {},
   "outputs": [],
   "source": [
    "top_10_teams = ipl_df_filtered['info_outcome_winner'].value_counts().nlargest(10)\n",
    "\n",
    "fig_8 = px.pie(\n",
    "    names=top_10_teams.index,\n",
    "    values=top_10_teams.values,\n",
    "    hole=0.4,  \n",
    "    color=top_10_teams.index,  \n",
    "    color_discrete_sequence=px.colors.qualitative.Set3[:len(top_10_teams)],  \n",
    "    title=\"Match Outcome Distribution by Top 10 Teams (Donut Chart)\"\n",
    ")\n",
    "\n",
    "fig_8.update_layout(\n",
    "    title_x=0.5,  \n",
    "    title_font=dict(size=16),\n",
    "    showlegend=True,  \n",
    "    template=\"plotly_dark\",   \n",
    "    height=600  \n",
    ")\n",
    "\n",
    "fig_8.show()"
   ]
  },
  {
   "cell_type": "markdown",
   "id": "253acc22-b559-4bfe-a00d-43dfc0de705f",
   "metadata": {},
   "source": [
    "### HeatMap for Correlation's Overs, Runs, and Extras"
   ]
  },
  {
   "cell_type": "code",
   "execution_count": null,
   "id": "c6287369-2630-4a4c-aac6-b8722bd302dc",
   "metadata": {},
   "outputs": [],
   "source": [
    "numeric_columns = ipl_df_filtered[['innings_overs_over', \n",
    "                                   'innings_overs_deliveries_runs_total', \n",
    "                                   'innings_overs_deliveries_runs_batter', \n",
    "                                   'innings_overs_deliveries_runs_extras']]\n",
    "\n",
    "correlation_matrix = numeric_columns.corr()\n",
    "\n",
    "fig_9 = px.imshow(correlation_matrix,\n",
    "                labels=dict(x=\"Features\", y=\"Features\", color=\"Correlation\"),\n",
    "                x=correlation_matrix.columns,\n",
    "                y=correlation_matrix.index,\n",
    "                color_continuous_scale=\"YlGnBu\",\n",
    "                text_auto=\".2f\")\n",
    "\n",
    "fig_9.update_layout(\n",
    "    title=\"Correlation Heatmap: Overs, Runs, and Extras\",\n",
    "    title_x=0.5,  \n",
    "    height=600,\n",
    ")\n",
    "\n",
    "fig_9.show()"
   ]
  },
  {
   "cell_type": "markdown",
   "id": "c800bf7c-5473-4093-89f3-30a0f77fab48",
   "metadata": {},
   "source": [
    "### Line Chart for Total Runs Scored"
   ]
  },
  {
   "cell_type": "code",
   "execution_count": null,
   "id": "7550cd3a-64fa-493e-8632-50238c489f99",
   "metadata": {},
   "outputs": [],
   "source": [
    "total_runs_per_season = ipl_df_filtered.groupby('info_season')['innings_overs_deliveries_runs_total'].sum().reset_index()\n",
    "\n",
    "fig_10 = px.line(\n",
    "    total_runs_per_season,\n",
    "    x='info_season',\n",
    "    y='innings_overs_deliveries_runs_total',\n",
    "    markers=True,\n",
    "    title=\"Total Runs Scored Across IPL Seasons\",\n",
    "    labels={'info_season': 'Season', 'innings_overs_deliveries_runs_total': 'Total Runs'},\n",
    "    line_shape='spline',  \n",
    "    color_discrete_sequence=['#FF5733']\n",
    ")\n",
    "\n",
    "fig_10.update_layout(\n",
    "    title_x=0.5,\n",
    "    height=600,\n",
    "    xaxis=dict(tickmode='linear')\n",
    ")\n",
    "\n",
    "fig_10.show()"
   ]
  },
  {
   "cell_type": "markdown",
   "id": "8d0b47ed-f8ae-4105-b054-400359c18a11",
   "metadata": {},
   "source": [
    "## 2.ODI_MATCHES"
   ]
  },
  {
   "cell_type": "code",
   "execution_count": null,
   "id": "e64af667-9630-4516-b3fe-34b2d31b3829",
   "metadata": {},
   "outputs": [],
   "source": [
    "from pathlib import Path\n",
    "\n",
    "file_path_odi = Path(r\"C:\\Users\\sathi\\Downloads\\PYTHON - GUVI\\odi_matches.csv\")  \n",
    "odi_df = pd.read_csv(file_path_odi)\n",
    "\n",
    "if 'meta_created' in odi_df.columns:\n",
    "    odi_df['meta_created'] = pd.to_datetime(odi_df['meta_created'], errors='coerce')\n",
    "\n",
    "numeric_cols = odi_df.select_dtypes(include=['number']).columns\n",
    "odi_df[numeric_cols] = odi_df[numeric_cols].fillna(0)\n",
    "\n",
    "odi_df.drop_duplicates(inplace=True)\n",
    "\n",
    "required_columns = [\n",
    "    'info_event_name', 'info_match_type', 'info_teams', 'info_outcome_winner', 'info_outcome_by_runs',\n",
    "    'innings_overs_deliveries_batter', 'innings_overs_deliveries_bowler',\n",
    "    'innings_overs_deliveries_runs_batter', 'innings_overs_deliveries_runs_extras', 'innings_overs_deliveries_runs_total'\n",
    "]\n",
    "\n",
    "missing_columns = [col for col in required_columns if col not in odi_df.columns]\n",
    "if missing_columns:\n",
    "    raise ValueError(f\"Missing required columns: {missing_columns}\")\n",
    "\n",
    "odi_match_info = odi_df[['info_event_name', 'info_match_type', 'info_teams', 'info_outcome_winner', 'info_outcome_by_runs']]\n",
    "odi_player_performance = odi_df[['innings_overs_deliveries_batter', 'innings_overs_deliveries_bowler', 'innings_overs_deliveries_runs_batter', 'innings_overs_deliveries_runs_extras']]\n",
    "\n",
    "if 'innings_overs_deliveries_runs_total' in odi_df.columns:\n",
    "    odi_filtered = odi_df[odi_df[\"innings_overs_deliveries_runs_total\"] < odi_df[\"innings_overs_deliveries_runs_total\"].quantile(0.95)]\n",
    "else:\n",
    "    raise ValueError(\"Column 'innings_overs_deliveries_runs_total' not found in DataFrame.\")\n",
    "\n",
    "if len(odi_filtered) >= 5000:\n",
    "    odi_sampled = odi_filtered.sample(n=5000, random_state=42)\n",
    "else:\n",
    "    odi_sampled = odi_filtered.sample(frac=1, random_state=42) \n",
    "\n",
    "odi_df_filtered = odi_sampled"
   ]
  },
  {
   "cell_type": "markdown",
   "id": "26b48fae-7d81-439d-b039-9f5c62782675",
   "metadata": {},
   "source": [
    "### Horizontal Bar Plot for Toss Winner Distribution"
   ]
  },
  {
   "cell_type": "code",
   "execution_count": null,
   "id": "6fb458c3-6735-4664-9a51-61f6b55815c7",
   "metadata": {},
   "outputs": [],
   "source": [
    "# fig_1\n",
    "toss_winner_counts = odi_df_filtered['info_toss_winner'].value_counts().sort_values(ascending=False)\n",
    "\n",
    "plt.figure(figsize=(12, 8))\n",
    "\n",
    "colors = sns.color_palette(\"tab10\", len(toss_winner_counts))\n",
    "\n",
    "sns.barplot(x=toss_winner_counts.values, y=toss_winner_counts.index, palette=colors)\n",
    "\n",
    "plt.xlabel(\"Number of Toss Wins\", fontsize=14, labelpad=10)\n",
    "\n",
    "plt.ylabel(\"Toss Winner\", fontsize=14, labelpad=10)\n",
    "\n",
    "plt.title(\"Toss Winner Distribution (Descending Order)\", fontsize=16, pad=15)\n",
    "\n",
    "plt.xticks(fontsize=12)\n",
    "\n",
    "plt.yticks(fontsize=12)\n",
    "\n",
    "plt.grid(axis=\"x\", linestyle=\"--\", alpha=0.6)\n",
    "\n",
    "plt.show()"
   ]
  },
  {
   "cell_type": "markdown",
   "id": "df77c62f-c249-4ea8-ace6-41ebc58fe5eb",
   "metadata": {},
   "source": [
    "### Line Plot for Runs vs Overs Played (for a Specific Team)"
   ]
  },
  {
   "cell_type": "code",
   "execution_count": null,
   "id": "c9275625-0252-4e07-94d7-5db8c74048fe",
   "metadata": {},
   "outputs": [],
   "source": [
    "# fig_2\n",
    "specific_team = 'India'\n",
    "\n",
    "team_data = odi_df_filtered[odi_df_filtered['info_teams'].str.contains(specific_team)]\n",
    "\n",
    "plt.figure(figsize=(12, 6))\n",
    "\n",
    "sns.lineplot(x='innings_overs_over', y='innings_overs_deliveries_runs_total', data=team_data, marker='o', color='blue')\n",
    "\n",
    "plt.xlabel(\"Overs Played\", fontsize=14)\n",
    "\n",
    "plt.ylabel(\"Total Runs\", fontsize=14)\n",
    "\n",
    "plt.title(f\"Runs vs Overs Played for {specific_team}\", fontsize=16)\n",
    "\n",
    "plt.show()"
   ]
  },
  {
   "cell_type": "markdown",
   "id": "b50d42b6-6be2-43c4-969a-cd248d3a9758",
   "metadata": {},
   "source": [
    "### Violin Plot for Runs by Toss Decision"
   ]
  },
  {
   "cell_type": "code",
   "execution_count": null,
   "id": "39eae2b0-19f1-4879-b4c1-6539a7335fac",
   "metadata": {},
   "outputs": [],
   "source": [
    "# fig_3\n",
    "plt.figure(figsize=(12, 6))\n",
    "\n",
    "sns.violinplot(x='info_match_type', y='innings_overs_deliveries_runs_batter', data=odi_df_filtered, palette=\"muted\")\n",
    "\n",
    "plt.xlabel(\"Match Type\", fontsize=14)\n",
    "\n",
    "plt.ylabel(\"Batter Runs\", fontsize=14)\n",
    "\n",
    "plt.title(\"Batter Runs Distribution Based on Match Type\", fontsize=16)\n",
    "\n",
    "plt.show()"
   ]
  },
  {
   "cell_type": "markdown",
   "id": "000381e7-f5ea-451b-8d84-70d21e094dd5",
   "metadata": {},
   "source": [
    "### Bar Plot for Runs by Season"
   ]
  },
  {
   "cell_type": "code",
   "execution_count": null,
   "id": "91e86585-4a07-4f7f-a375-fce0d8dcdb52",
   "metadata": {},
   "outputs": [],
   "source": [
    "seasonal_runs = odi_df_filtered.groupby('info_season')['innings_overs_deliveries_runs_total'].sum().reset_index()\n",
    "\n",
    "seasonal_runs = seasonal_runs.sort_values(by='innings_overs_deliveries_runs_total', ascending=False).head(15)\n",
    "\n",
    "fig_4 = px.bar(\n",
    "    seasonal_runs,\n",
    "    x='info_season',\n",
    "    y='innings_overs_deliveries_runs_total',\n",
    "    color='info_season',  \n",
    "    color_discrete_sequence=px.colors.qualitative.Pastel,  \n",
    "    title=\"Total Runs by Season in ODI Matches (Top 15)\",\n",
    "    labels={'info_season': 'Season', 'innings_overs_deliveries_runs_total': 'Total Runs'}\n",
    ")\n",
    "\n",
    "fig_4.update_layout(\n",
    "    title_x=0.5,\n",
    "    xaxis=dict(title=\"Season\", tickmode=\"linear\"),\n",
    "    yaxis=dict(title=\"Total Runs\"),\n",
    "    height=600\n",
    ")\n",
    "\n",
    "fig_4.show()"
   ]
  },
  {
   "cell_type": "markdown",
   "id": "125fdb01-fa4d-42db-8e13-ffb067e88ea2",
   "metadata": {},
   "source": [
    "### Pie Chart for Toss Decision"
   ]
  },
  {
   "cell_type": "code",
   "execution_count": null,
   "id": "b1e6fd23-d2e7-4bbf-841b-49461208db5b",
   "metadata": {},
   "outputs": [],
   "source": [
    "toss_decision_counts = odi_df_filtered['info_toss_decision'].value_counts()\n",
    "\n",
    "fig_5 = px.pie(\n",
    "    names=toss_decision_counts.index,\n",
    "    values=toss_decision_counts.values,\n",
    "    color=toss_decision_counts.index,\n",
    "    title=\"Toss Decision Distribution\",\n",
    "    color_discrete_sequence=px.colors.qualitative.Set2  \n",
    ")\n",
    "\n",
    "fig_5.update_traces(textinfo='percent+label', pull=[0.1, 0.1, 0.1])  \n",
    "\n",
    "fig_5.update_layout(\n",
    "    title={\n",
    "        'text': \"Toss Decision Distribution\",\n",
    "        'x': 0.5,  \n",
    "        'xanchor': 'center',\n",
    "        'y': 0.97,\n",
    "        'yanchor': 'top'\n",
    "    },\n",
    "    showlegend=True,\n",
    "    height = 600\n",
    ")\n",
    "\n",
    "fig_5.show()"
   ]
  },
  {
   "cell_type": "markdown",
   "id": "9f7b4d2e-ba0a-4373-98d3-4c3edd401b86",
   "metadata": {},
   "source": [
    "### Pie Chart for Most Runs Conceded by Teams"
   ]
  },
  {
   "cell_type": "code",
   "execution_count": null,
   "id": "4383831d-80f7-4c06-9c41-81b1072deea2",
   "metadata": {},
   "outputs": [],
   "source": [
    "extra_runs_by_team_odi = odi_df_filtered.groupby('innings_team')['innings_overs_deliveries_runs_extras'].sum().sort_values(ascending=False).head(10).reset_index()\n",
    "extra_runs_by_team_odi.columns = ['Team', 'Total Extra Runs']\n",
    "\n",
    "fig_6 = px.pie(\n",
    "    extra_runs_by_team_odi,\n",
    "    names='Team',\n",
    "    values='Total Extra Runs',\n",
    "    title=\"Most Extra Runs Conceded by Teams in ODI Matches\",\n",
    "    color='Team',\n",
    "    color_discrete_sequence=px.colors.qualitative.Set3\n",
    ")\n",
    "\n",
    "fig_6.update_layout(\n",
    "    title_x=0.5,\n",
    "    height=600\n",
    ")\n",
    "\n",
    "fig_6.show()"
   ]
  },
  {
   "cell_type": "markdown",
   "id": "742a8ee1-e92d-4d86-80d7-899ddca650c1",
   "metadata": {},
   "source": [
    "### KDE Plot of Batter Runs Distribution"
   ]
  },
  {
   "cell_type": "code",
   "execution_count": null,
   "id": "a193ccff-518c-45b9-8d4e-f633efab7905",
   "metadata": {},
   "outputs": [],
   "source": [
    "fig_7 = ff.create_distplot(\n",
    "    [odi_df_filtered['innings_overs_deliveries_runs_batter'].dropna()],  \n",
    "    group_labels=['Batter Runs'], \n",
    "    show_hist=False,  \n",
    "    show_rug=False,  \n",
    "    colors=['red'],  \n",
    ")\n",
    "\n",
    "fig_7.update_layout(\n",
    "    title=\"KDE Plot of Batter Runs Distribution\",\n",
    "    xaxis_title=\"Batter Runs\",\n",
    "    yaxis_title=\"Density\",\n",
    "    template=\"plotly_dark\",\n",
    "    title_x=0.5, \n",
    "    height = 600\n",
    ")\n",
    "\n",
    "fig_7.show()"
   ]
  },
  {
   "cell_type": "markdown",
   "id": "7069b570-0bbb-48c8-a8b0-02aa628964e0",
   "metadata": {},
   "source": [
    "### Donut Chart of Match Outcome Distribution by Top 10 Teams"
   ]
  },
  {
   "cell_type": "code",
   "execution_count": null,
   "id": "b21de5ba-3128-4ff5-a358-8eb606241934",
   "metadata": {},
   "outputs": [],
   "source": [
    "# fig_8\n",
    "top_10_teams = odi_df_filtered['info_outcome_winner'].value_counts().nlargest(10)\n",
    "\n",
    "plt.figure(figsize=(12, 6))\n",
    "\n",
    "colors = sns.color_palette(\"Set3\", len(top_10_teams))\n",
    "\n",
    "plt.pie(top_10_teams, labels=top_10_teams.index, autopct='%1.1f%%', startangle=140, colors=colors, wedgeprops={'width': 0.4})\n",
    "\n",
    "plt.title(\"Match Outcome Distribution by Top 10 Teams\", fontsize=16)\n",
    "\n",
    "plt.axis('equal')\n",
    "\n",
    "plt.show()"
   ]
  },
  {
   "cell_type": "markdown",
   "id": "1f3771de-e589-4147-b4a2-80ca4c55a3f5",
   "metadata": {},
   "source": [
    "### Line Chart for Extra Runs Conceded by Teams"
   ]
  },
  {
   "cell_type": "code",
   "execution_count": null,
   "id": "6cf6a1c8-8127-4c5d-b9da-c9804550db44",
   "metadata": {},
   "outputs": [],
   "source": [
    "extra_runs_by_year_odi = odi_df_filtered.groupby('info_season')['innings_overs_deliveries_runs_extras'].sum().reset_index()\n",
    "\n",
    "extra_runs_by_year_odi.columns = ['Year', 'Total Extra Runs']\n",
    "\n",
    "fig_9 = px.line(\n",
    "    extra_runs_by_year_odi,\n",
    "    x='Year',\n",
    "    y='Total Extra Runs',\n",
    "    title=\"Extra Runs Conceded by Teams Over the Years in ODI Matches\",\n",
    "    markers=True,\n",
    "    line_shape='spline'\n",
    ")\n",
    "\n",
    "fig_9.update_layout(\n",
    "    title_x=0.5,\n",
    "    height=600\n",
    ")\n",
    "\n",
    "fig_9.show()"
   ]
  },
  {
   "cell_type": "markdown",
   "id": "63dbb701-d7a8-499f-bd52-bca888bd5d8e",
   "metadata": {},
   "source": [
    "### Correlation Heatmap for Overs, Runs, and Extras"
   ]
  },
  {
   "cell_type": "code",
   "execution_count": null,
   "id": "bf8d7a5a-5547-4352-9101-688747ccbdd8",
   "metadata": {},
   "outputs": [],
   "source": [
    "# fig_10\n",
    "numeric_columns = odi_df_filtered[['innings_overs_over', \n",
    "                                   'innings_overs_deliveries_runs_total', \n",
    "                                   'innings_overs_deliveries_runs_batter', \n",
    "                                   'innings_overs_deliveries_runs_extras']]\n",
    "\n",
    "correlation_matrix = numeric_columns.corr()\n",
    "\n",
    "plt.figure(figsize=(12, 8))\n",
    "\n",
    "sns.heatmap(correlation_matrix, annot=True, cmap=\"YlGnBu\", fmt='.2f', linewidths=1, linecolor='gray')\n",
    "\n",
    "plt.title(\"Correlation Heatmap: Overs, Runs, and Extras\", fontsize=16)\n",
    "\n",
    "plt.show()"
   ]
  },
  {
   "cell_type": "markdown",
   "id": "1c953254-c84c-4df1-ac04-c1d8f06eed46",
   "metadata": {},
   "source": [
    "## 3) T20_MATCHES"
   ]
  },
  {
   "cell_type": "code",
   "execution_count": null,
   "id": "68b1daf9-bb8e-454f-89cd-292e22bfea42",
   "metadata": {},
   "outputs": [],
   "source": [
    "file_path_t20 = Path(r\"C:\\Users\\sathi\\Downloads\\PYTHON - GUVI\\t20_matches.csv\")  \n",
    "t20_df = pd.read_csv(file_path_t20, low_memory=False)  \n",
    "\n",
    "if 'meta_created' in t20_df.columns:\n",
    "    t20_df['meta_created'] = pd.to_datetime(t20_df['meta_created'], errors='coerce')\n",
    "\n",
    "numeric_cols = t20_df.select_dtypes(include=['number']).columns\n",
    "t20_df[numeric_cols] = t20_df[numeric_cols].fillna(0)\n",
    "\n",
    "t20_df.drop_duplicates(inplace=True)\n",
    "\n",
    "required_columns = [\n",
    "    'info_event_name', 'info_match_type', 'info_teams', 'info_outcome_winner', 'info_outcome_by_runs',\n",
    "    'innings_overs_deliveries_batter', 'innings_overs_deliveries_bowler',\n",
    "    'innings_overs_deliveries_runs_batter', 'innings_overs_deliveries_runs_extras', 'innings_overs_deliveries_runs_total'\n",
    "]\n",
    "\n",
    "missing_columns = [col for col in required_columns if col not in t20_df.columns]\n",
    "if missing_columns:\n",
    "    raise ValueError(f\"Missing required columns: {missing_columns}\")\n",
    "\n",
    "t20_match_info = t20_df[['info_event_name', 'info_match_type', 'info_teams', 'info_outcome_winner', 'info_outcome_by_runs']]\n",
    "t20_player_performance = t20_df[['innings_overs_deliveries_batter', 'innings_overs_deliveries_bowler', 'innings_overs_deliveries_runs_batter', 'innings_overs_deliveries_runs_extras']]\n",
    "\n",
    "if 'innings_overs_deliveries_runs_total' in t20_df.columns:\n",
    "    t20_filtered = t20_df[t20_df[\"innings_overs_deliveries_runs_total\"] < t20_df[\"innings_overs_deliveries_runs_total\"].quantile(0.95)]\n",
    "else:\n",
    "    raise ValueError(\"Column 'innings_overs_deliveries_runs_total' not found in DataFrame.\")\n",
    "\n",
    "if len(t20_filtered) >= 5000:\n",
    "    t20_sampled = t20_filtered.sample(n=5000, random_state=42)\n",
    "else:\n",
    "    t20_sampled = t20_filtered.sample(frac=1, random_state=42)\n",
    "\n",
    "t20_df_filtered = t20_sampled"
   ]
  },
  {
   "cell_type": "markdown",
   "id": "d8c1027a-6ae8-4c8f-8e39-0bf8de56188e",
   "metadata": {},
   "source": [
    "### Horizontal Bar Plot for Toss Winner Distribution"
   ]
  },
  {
   "cell_type": "code",
   "execution_count": null,
   "id": "8db1a05d-45a8-48e1-830f-1851164d2d0a",
   "metadata": {},
   "outputs": [],
   "source": [
    "toss_winner_counts = t20_df_filtered['info_outcome_winner'].value_counts().head(10)\n",
    "\n",
    "toss_df = pd.DataFrame({'Team': toss_winner_counts.index, 'Wins': toss_winner_counts.values})\n",
    "\n",
    "colors = px.colors.qualitative.Set2  \n",
    "\n",
    "fig_1 = px.bar(\n",
    "    toss_df,\n",
    "    x='Wins',\n",
    "    y='Team',\n",
    "    orientation='h',\n",
    "    title=\"Toss Winner Distribution (Top 10 Teams)\",\n",
    "    labels={'Wins': 'Number of Toss Wins', 'Team': 'Teams'},\n",
    "    text='Wins',  \n",
    "    color='Team',  \n",
    "    color_discrete_sequence=colors  \n",
    ")\n",
    "\n",
    "fig_1.update_layout(\n",
    "    yaxis={'categoryorder': 'total ascending'},  \n",
    "    xaxis_title=\"Number of Toss Wins\",\n",
    "    yaxis_title=\"Teams\",\n",
    "    bargap=0.3,  \n",
    "    height=600 \n",
    ")\n",
    "\n",
    "fig_1.show()"
   ]
  },
  {
   "cell_type": "markdown",
   "id": "3368517e-3f81-4eed-8d57-0400a657e0ea",
   "metadata": {},
   "source": [
    "### Sunburst Plot for Toss Decision vs Match Outcome"
   ]
  },
  {
   "cell_type": "code",
   "execution_count": null,
   "id": "cb259e0a-4780-4703-91d4-db4eecd4fd4c",
   "metadata": {},
   "outputs": [],
   "source": [
    "top_10_teams = t20_df_filtered['info_outcome_winner'].value_counts().head(10).index\n",
    "\n",
    "toss_decision_match_outcome = t20_df_filtered[\n",
    "    t20_df_filtered['info_outcome_winner'].isin(top_10_teams)\n",
    "].groupby(['info_toss_decision', 'info_outcome_winner']).size().reset_index(name='Count')\n",
    "\n",
    "fig_2 = px.sunburst(\n",
    "    toss_decision_match_outcome, \n",
    "    path=['info_toss_decision', 'info_outcome_winner'], \n",
    "    values='Count',\n",
    "    title=\"Toss Decision vs Match Outcome (Top 10 Teams)\",\n",
    "    labels={'info_toss_decision': 'Toss Decision', 'info_outcome_winner': 'Match Outcome'},\n",
    ")\n",
    "\n",
    "fig_2.update_layout(\n",
    "    title={'text': 'Toss Decision vs Match Outcome (Top 10 Teams)', 'x': 0.5, 'xanchor': 'center'},\n",
    "    margin=dict(t=50, b=50, l=50, r=50),  \n",
    "    legend_title=\"Teams\",\n",
    "    legend=dict(title='Toss Decision', orientation='h', x=0.5, xanchor='center', y=-0.1),  \n",
    "    height=600, \n",
    "    uniformtext_minsize=10, \n",
    ")\n",
    "\n",
    "fig_2.show()"
   ]
  },
  {
   "cell_type": "markdown",
   "id": "e49e6f8e-2793-47cc-8323-f10082da9b08",
   "metadata": {},
   "source": [
    "### 3D Bubble Chart for Top 10 Winning Margins"
   ]
  },
  {
   "cell_type": "code",
   "execution_count": null,
   "id": "b62044bd-4fed-4956-bcfa-86225f4814d4",
   "metadata": {},
   "outputs": [],
   "source": [
    "unimaginable_wins = t20_df_filtered.groupby(['info_outcome_winner', 'info_outcome_by_runs']).size().reset_index(name='Match_Count')\n",
    "unimaginable_wins = unimaginable_wins.sort_values(by='info_outcome_by_runs', ascending=False).head(10)\n",
    "\n",
    "fig_3 = px.scatter_3d(\n",
    "    unimaginable_wins,\n",
    "    x='info_outcome_winner', \n",
    "    y='info_outcome_by_runs', \n",
    "    z='Match_Count', \n",
    "    size='Match_Count',  \n",
    "    color='info_outcome_winner',\n",
    "    title=\"Top 10 Unimaginable Winning Margins in T20\",\n",
    "    labels={'info_outcome_winner': 'Team', 'info_outcome_by_runs': 'Winning Margin (Runs)', 'Match_Count': 'Matches'},\n",
    "    color_discrete_sequence=px.colors.qualitative.Prism  # Unique color scheme\n",
    ")\n",
    "\n",
    "fig_3.update_layout(\n",
    "    title={'text': 'Top 10 Unimaginable Winning Margins in T20', 'x': 0.5, 'xanchor': 'center'},\n",
    "    scene=dict(\n",
    "        xaxis_title=\"Teams\",\n",
    "        yaxis_title=\"Winning Margin (Runs)\",\n",
    "        zaxis_title=\"Match Count\"\n",
    "    ),\n",
    "    height=700\n",
    ")\n",
    "\n",
    "fig_3.show()"
   ]
  },
  {
   "cell_type": "markdown",
   "id": "c75ec302-3653-4daa-9aa0-3dec3a551a2e",
   "metadata": {},
   "source": [
    "### Pie Chart for Toss Decision Distribution"
   ]
  },
  {
   "cell_type": "code",
   "execution_count": null,
   "id": "419a8b1b-79a9-4555-af9a-41c707271e6c",
   "metadata": {},
   "outputs": [],
   "source": [
    "toss_decision_counts = t20_df_filtered['info_toss_decision'].value_counts().head(10)\n",
    "\n",
    "fig_4 = px.pie(\n",
    "    names=toss_decision_counts.index,\n",
    "    values=toss_decision_counts.values,\n",
    "    title=\"Toss Decision Distribution (Top 10 Teams)\",\n",
    "    color=toss_decision_counts.index,\n",
    "    color_discrete_sequence=px.colors.qualitative.Plotly  # Unique colors\n",
    ")\n",
    "\n",
    "fig_4.update_layout(\n",
    "    title={'text': 'Toss Decision Distribution (Top 10 Teams)', 'x': 0.5, 'xanchor': 'center'},\n",
    "    height=600\n",
    ")\n",
    "\n",
    "fig_4.show()"
   ]
  },
  {
   "cell_type": "markdown",
   "id": "b9fe1861-f9ce-45b8-a18a-36d253f25a27",
   "metadata": {},
   "source": [
    "### KDE Plot for Batter Runs Distribution"
   ]
  },
  {
   "cell_type": "code",
   "execution_count": null,
   "id": "29358625-27e6-4537-b44a-9a73ca7dbbca",
   "metadata": {},
   "outputs": [],
   "source": [
    "fig_5 = px.density_contour(\n",
    "    t20_df_filtered,\n",
    "    x='innings_overs_deliveries_runs_batter', \n",
    "    title=\"KDE Plot for Batter Runs Distribution\",\n",
    "    labels={'innings_overs_deliveries_runs_batter': 'Batter Runs'}\n",
    ")\n",
    "\n",
    "fig_5.update_traces(colorscale='Viridis')\n",
    "\n",
    "fig_5.update_layout(\n",
    "    title={'text': 'KDE Plot for Batter Runs Distribution', 'x': 0.5, 'xanchor': 'center'},\n",
    "    xaxis_title=\"Batter Runs\",\n",
    "    yaxis_title=\"Density\",\n",
    "    height=600,\n",
    "    plot_bgcolor='rgba(0, 0, 0, 0)',  \n",
    "    paper_bgcolor='rgb(40, 40, 40)',  \n",
    "    font=dict(color=\"white\")  \n",
    ")\n",
    "\n",
    "fig_5.show()"
   ]
  },
  {
   "cell_type": "markdown",
   "id": "c1a36113-ade4-4acc-8599-dd69b4986cad",
   "metadata": {},
   "source": [
    "### Correlation Heatmap for Overs, Runs, and Extras"
   ]
  },
  {
   "cell_type": "code",
   "execution_count": null,
   "id": "e1867ba3-b2ab-43f9-9587-753a09479ae9",
   "metadata": {},
   "outputs": [],
   "source": [
    "corr_matrix = t20_df_filtered[['innings_overs_over', 'innings_overs_deliveries_runs_batter', 'innings_overs_deliveries_runs_extras']].corr()\n",
    "\n",
    "fig_6 = ff.create_annotated_heatmap(\n",
    "    z=corr_matrix.values,\n",
    "    x=corr_matrix.columns.tolist(),\n",
    "    y=corr_matrix.columns.tolist(),\n",
    "    colorscale='Viridis',\n",
    "    showscale=True\n",
    ")\n",
    "\n",
    "fig_6.update_layout(\n",
    "    title={'text': 'Correlation Heatmap (Overs, Runs, and Extras)', 'x': 0.5, 'xanchor': 'center'},\n",
    "    height=600\n",
    ")\n",
    "\n",
    "fig_6.show()"
   ]
  },
  {
   "cell_type": "markdown",
   "id": "e476b7df-ee63-4f4f-8fbd-7507b2345819",
   "metadata": {},
   "source": [
    "### Violin Plot for Runs by Toss Winner and Decision"
   ]
  },
  {
   "cell_type": "code",
   "execution_count": null,
   "id": "0b86f334-f833-46ce-a280-f3bb39e9835f",
   "metadata": {},
   "outputs": [],
   "source": [
    "top_15_teams = t20_df_filtered['info_toss_winner'].value_counts().head(15).index\n",
    "\n",
    "t20_df_top_15 = t20_df_filtered[t20_df_filtered['info_toss_winner'].isin(top_15_teams)]\n",
    "\n",
    "fig_7 = px.violin(\n",
    "    t20_df_top_15,\n",
    "    x='info_toss_winner',  \n",
    "    y='innings_overs_deliveries_runs_batter',  \n",
    "    color='info_toss_decision',  \n",
    "    title=\"Runs by Toss Winner and Decision (Top 15 Teams)\",\n",
    "    labels={'info_toss_winner': 'Toss Winner', 'innings_overs_deliveries_runs_batter': 'Runs', 'info_toss_decision': 'Toss Decision'},\n",
    "    box=True,  \n",
    "    points=\"all\" \n",
    ")\n",
    "\n",
    "fig_7.update_layout(\n",
    "    title={'text': 'Runs by Toss Winner and Decision', 'x': 0.5, 'xanchor': 'center'},  \n",
    "    xaxis_title=\"Toss Winner\",\n",
    "    yaxis_title=\"Runs Scored by Batter\",\n",
    "    height=600,\n",
    "    showlegend=True,  \n",
    "    xaxis=dict(showgrid=True),  \n",
    "    yaxis=dict(showgrid=True), \n",
    "    hovermode=\"closest\"  \n",
    ")\n",
    "\n",
    "fig_7.show()"
   ]
  },
  {
   "cell_type": "markdown",
   "id": "92d50137-64b2-4532-9bae-e1149e66544c",
   "metadata": {},
   "source": [
    "### Bar Plot for Runs by Season"
   ]
  },
  {
   "cell_type": "code",
   "execution_count": null,
   "id": "dd4bce6c-4a6f-4001-bfd3-244a1deb6e03",
   "metadata": {},
   "outputs": [],
   "source": [
    "runs_by_season = t20_df_filtered.groupby('info_season')['innings_overs_deliveries_runs_batter'].sum().reset_index()\n",
    "\n",
    "runs_by_season = runs_by_season.sort_values(by='innings_overs_deliveries_runs_batter', ascending=True)\n",
    "\n",
    "fig_8 = px.bar(\n",
    "    runs_by_season,\n",
    "    x='info_season',\n",
    "    y='innings_overs_deliveries_runs_batter',\n",
    "    title=\"Runs by Season\",\n",
    "    labels={'info_season': 'Season', 'innings_overs_deliveries_runs_batter': 'Runs'},\n",
    "    color='info_season',\n",
    "    color_discrete_sequence=px.colors.qualitative.Set3  \n",
    ")\n",
    "\n",
    "fig_8.update_layout(\n",
    "    title={'text': 'Runs by Season (Ascending)', 'x': 0.5, 'xanchor': 'center'},\n",
    "    xaxis_title=\"Season\",\n",
    "    yaxis_title=\"Total Runs\",\n",
    "    height=600,\n",
    "    showlegend=True,  \n",
    "    xaxis=dict(showgrid=True),  \n",
    "    yaxis=dict(showgrid=True), \n",
    ")\n",
    "\n",
    "fig_8.show()"
   ]
  },
  {
   "cell_type": "markdown",
   "id": "a31036d0-e104-400d-a492-fd9dc7f62d45",
   "metadata": {},
   "source": [
    "### Line Chart for Total Runs"
   ]
  },
  {
   "cell_type": "code",
   "execution_count": null,
   "id": "e5dd39ef-63c0-4ac7-98e6-3a4dc15679cd",
   "metadata": {},
   "outputs": [],
   "source": [
    "total_runs_per_season_t20 = t20_df_filtered.groupby('info_season')['innings_overs_deliveries_runs_total'].sum().reset_index()\n",
    "\n",
    "fig_9 = px.line(\n",
    "    total_runs_per_season_t20,\n",
    "    x='info_season',\n",
    "    y='innings_overs_deliveries_runs_total',\n",
    "    markers=True,\n",
    "    title=\"Total Runs Scored Across T20 International Seasons\",\n",
    "    labels={'info_season': 'Season', 'innings_overs_deliveries_runs_total': 'Total Runs'},\n",
    "    line_shape='spline',  \n",
    "    color_discrete_sequence=['#FF5733']  \n",
    ")\n",
    "\n",
    "fig_9.update_layout(\n",
    "    title_x=0.5,\n",
    "    height=600,\n",
    "    xaxis=dict(tickmode='linear'),\n",
    "    plot_bgcolor='rgba(0, 0, 0, 0)',\n",
    "    paper_bgcolor='rgb(40, 40, 40)',  \n",
    "    font=dict(color=\"white\")\n",
    ")\n",
    "\n",
    "fig_9.show()"
   ]
  },
  {
   "cell_type": "markdown",
   "id": "fc3e1325-958e-439b-b95c-177422a36bc1",
   "metadata": {},
   "source": [
    "### Pie Chart for Extra Runs Conceded by Teams"
   ]
  },
  {
   "cell_type": "code",
   "execution_count": null,
   "id": "4a301377-404f-4165-b3aa-81147cfb2302",
   "metadata": {},
   "outputs": [],
   "source": [
    "extra_runs_by_team_t20 = t20_df_filtered.groupby('innings_team')['innings_overs_deliveries_runs_extras'].sum().sort_values(ascending=False).head(10).reset_index()\n",
    "extra_runs_by_team_t20.columns = ['Team', 'Total Extra Runs']\n",
    "\n",
    "fig_10 = px.pie(\n",
    "    extra_runs_by_team_t20,\n",
    "    names='Team',\n",
    "    values='Total Extra Runs',\n",
    "    title=\"Most Extra Runs Conceded by Teams in T20 Internationals\",\n",
    "    color='Team',\n",
    "    color_discrete_sequence=px.colors.qualitative.Set3\n",
    ")\n",
    "\n",
    "fig_10.update_layout(\n",
    "    title_x=0.5,\n",
    "    height=600\n",
    ")\n",
    "\n",
    "fig_10.show()"
   ]
  },
  {
   "cell_type": "markdown",
   "id": "58e08544-e73e-4661-961f-e55f06b15dbd",
   "metadata": {},
   "source": [
    "## 4. TEST_MATCHES"
   ]
  },
  {
   "cell_type": "code",
   "execution_count": null,
   "id": "5a1e9cfa-10db-4690-9ee9-a9ca45ad0580",
   "metadata": {},
   "outputs": [],
   "source": [
    "file_path_test = Path(r\"C:\\Users\\sathi\\Downloads\\PYTHON - GUVI\\test_matches.csv\")\n",
    "\n",
    "test_df = pd.read_csv(file_path_test, low_memory=False)\n",
    "\n",
    "if 'meta_created' in test_df.columns:\n",
    "    test_df['meta_created'] = pd.to_datetime(test_df['meta_created'], errors='coerce')\n",
    "\n",
    "numeric_cols = [\n",
    "    'innings_overs_deliveries_batter', 'innings_overs_deliveries_runs_batter', \n",
    "    'innings_overs_deliveries_runs_extras', 'innings_overs_deliveries_runs_total'\n",
    "]\n",
    "\n",
    "for col in numeric_cols:\n",
    "    test_df[col] = pd.to_numeric(test_df[col], errors='coerce')\n",
    "\n",
    "test_df[numeric_cols] = test_df[numeric_cols].fillna(0)\n",
    "\n",
    "test_df.drop_duplicates(inplace=True)\n",
    "\n",
    "required_columns = [\n",
    "    'info_event_name', 'info_match_type', 'info_teams', 'info_outcome_winner', \n",
    "    'info_outcome_by_runs', 'innings_overs_deliveries_batter', 'innings_overs_deliveries_bowler',\n",
    "    'innings_overs_deliveries_runs_batter', 'innings_overs_deliveries_runs_extras', 'innings_overs_deliveries_runs_total'\n",
    "]\n",
    "\n",
    "missing_columns = [col for col in required_columns if col not in test_df.columns]\n",
    "\n",
    "if missing_columns:\n",
    "    raise ValueError(f\"Missing required columns: {missing_columns}\")\n",
    "\n",
    "if 'innings_overs_deliveries_runs_total' in test_df.columns:\n",
    "    test_df['innings_overs_deliveries_runs_total'] = pd.to_numeric(test_df['innings_overs_deliveries_runs_total'], errors='coerce')\n",
    "    test_filtered = test_df[test_df[\"innings_overs_deliveries_runs_total\"] < test_df[\"innings_overs_deliveries_runs_total\"].quantile(0.95)]\n",
    "else:\n",
    "    raise ValueError(\"Column 'innings_overs_deliveries_runs_total' not found in DataFrame.\")\n",
    "\n",
    "test_df_filtered = test_filtered.sample(n=5000, random_state=42) if len(test_filtered) >= 5000 else test_filtered.sample(frac=1, random_state=42)\n",
    "\n",
    "top_10_teams = test_df_filtered['info_outcome_winner'].value_counts().head(10).index\n",
    "\n",
    "filtered_data = test_df_filtered[test_df_filtered['info_outcome_winner'].isin(top_10_teams)]"
   ]
  },
  {
   "cell_type": "markdown",
   "id": "e3bb2634-1170-41cf-9b86-b77c0890a334",
   "metadata": {},
   "source": [
    "### Horizontal Bar Plot for Toss Winner Distribution"
   ]
  },
  {
   "cell_type": "code",
   "execution_count": null,
   "id": "5d451847-0e6b-4e68-84e3-20b5b2dbb8ec",
   "metadata": {},
   "outputs": [],
   "source": [
    "toss_winner_counts = test_df['info_toss_winner'].value_counts().head(10).reset_index()\n",
    "\n",
    "toss_winner_counts.columns = ['Toss Winner', 'Count']\n",
    "\n",
    "fig_1 = px.bar(toss_winner_counts, \n",
    "              x='Count', y='Toss Winner', \n",
    "              orientation='h', \n",
    "              title='Top 10 Toss Winner Distribution', \n",
    "              labels={'Count': 'Number of Wins', 'Toss Winner': 'Toss Winner'},\n",
    "              color='Toss Winner', \n",
    "              color_continuous_scale='Viridis')\n",
    "\n",
    "fig_1.update_layout(title={'text': 'Top 10 Toss Winner Distribution', 'x': 0.5}, \n",
    "                  title_y=0.95, \n",
    "                  margin=dict(l=100, r=100, t=100, b=100), \n",
    "                  showlegend=True, height = 600)\n",
    "\n",
    "fig_1.update_traces(texttemplate='%{x}', textposition='outside', width=0.7)\n",
    "\n",
    "fig_1.show()"
   ]
  },
  {
   "cell_type": "markdown",
   "id": "5fe16c63-f7e7-41e1-807c-5443ceb30a8f",
   "metadata": {},
   "source": [
    "### Sunburst Plot for Toss Decision vs Match Outcome"
   ]
  },
  {
   "cell_type": "code",
   "execution_count": null,
   "id": "984fcf58-46ab-4a45-815e-7ab8dc168bd5",
   "metadata": {},
   "outputs": [],
   "source": [
    "top_10_teams = test_df_filtered['info_outcome_winner'].value_counts().head(10).index\n",
    "\n",
    "toss_decision_match_outcome = test_df_filtered[test_df_filtered['info_outcome_winner'].isin(top_10_teams)] \\\n",
    "    .groupby(['info_match_type', 'info_outcome_winner']).size().reset_index(name='Count')\n",
    "\n",
    "fig_2 = px.sunburst(\n",
    "    toss_decision_match_outcome,\n",
    "    path=['info_match_type', 'info_outcome_winner'],\n",
    "    values='Count',\n",
    "    title=\"Toss Decision vs Match Outcome (Top 10 Teams)\",\n",
    "    color='info_outcome_winner'\n",
    ")\n",
    "\n",
    "fig_2.update_layout(title={'x': 0.5, 'xanchor': 'center'}, showlegend=True, height = 600)\n",
    "\n",
    "fig_2.show()"
   ]
  },
  {
   "cell_type": "markdown",
   "id": "9489c7fd-bfd0-4176-9b76-bcc5a15d28bf",
   "metadata": {},
   "source": [
    "### Bar Chart for Match Outcome by Teams"
   ]
  },
  {
   "cell_type": "code",
   "execution_count": null,
   "id": "296ebe5b-af18-4ea0-842b-1de320df3ac6",
   "metadata": {},
   "outputs": [],
   "source": [
    "fig_3 = px.bar(\n",
    "    test_df_filtered,\n",
    "    x='info_outcome_winner',\n",
    "    color='info_outcome_winner',\n",
    "    title=\"Match Outcomes by Teams\",\n",
    "    labels={'info_outcome_winner': 'Teams'},\n",
    "    category_orders={'info_outcome_winner': top_10_teams.tolist()},\n",
    "    color_discrete_sequence=['red', 'green', 'blue', 'yellow', 'orange', 'purple', 'cyan', 'pink', 'brown', 'lime']  \n",
    ")\n",
    "\n",
    "fig_3.update_traces(texttemplate='%{y}', textposition='outside', showlegend=False)\n",
    "\n",
    "fig_3.update_layout(\n",
    "    title={'x': 0.5, 'xanchor': 'center'},\n",
    "    barmode='stack',  \n",
    "    height=600,\n",
    "    plot_bgcolor='gold',  \n",
    "    paper_bgcolor='white', \n",
    "    title_font=dict(size=20, color='black'), \n",
    "    xaxis_title='Teams',\n",
    "    yaxis_title='Count',\n",
    "    xaxis=dict(showgrid=False, showline=True, linecolor='grey'),\n",
    "    yaxis=dict(showgrid=True, gridcolor='black'),\n",
    ")\n",
    "\n",
    "fig_3.show()"
   ]
  },
  {
   "cell_type": "markdown",
   "id": "4a2c5663-3e99-48f6-bfb5-3a8d35d8f818",
   "metadata": {},
   "source": [
    "### Pie Chart for Toss Decision Distribution "
   ]
  },
  {
   "cell_type": "code",
   "execution_count": null,
   "id": "b4af9801-dc4f-4e32-b1b5-a2f1bf8f35c7",
   "metadata": {},
   "outputs": [],
   "source": [
    "runs_by_season = test_df_filtered.groupby('info_event_name')['innings_overs_deliveries_runs_batter'].sum().reset_index()\n",
    "\n",
    "runs_by_season = runs_by_season.sort_values(by='innings_overs_deliveries_runs_batter', ascending=False).head(10)\n",
    "\n",
    "fig_4 = px.bar(\n",
    "    runs_by_season,\n",
    "    x='info_event_name', y='innings_overs_deliveries_runs_batter',\n",
    "    title=\"Runs by Season (Top 10 Seasons)\",\n",
    "    labels={'info_event_name': 'Season', 'innings_overs_deliveries_runs_batter': 'Total Runs'},\n",
    "    color='info_event_name',\n",
    "    color_discrete_sequence=px.colors.qualitative.Dark24\n",
    ")\n",
    "\n",
    "fig_4.update_layout(title={'x': 0.5, 'xanchor': 'center'}, height=600, xaxis={'categoryorder':'total descending'})\n",
    "\n",
    "fig_4.show()"
   ]
  },
  {
   "cell_type": "markdown",
   "id": "9b58a6b6-ba5f-4569-b38f-ff44ad49e806",
   "metadata": {},
   "source": [
    "### KDE Plot for Batter Runs Distribution"
   ]
  },
  {
   "cell_type": "code",
   "execution_count": null,
   "id": "73f74063-5efe-4ee6-86b9-1d0e3592ed42",
   "metadata": {},
   "outputs": [],
   "source": [
    "fig_5 = px.density_heatmap(\n",
    "    test_df_filtered,\n",
    "    x='innings_overs_deliveries_runs_batter',\n",
    "    title=\"KDE Heatmap for Batter Runs Distribution\",\n",
    "    labels={'innings_overs_deliveries_runs_batter': 'Batter Runs'},\n",
    "    color_continuous_scale=px.colors.sequential.Viridis\n",
    ")\n",
    "\n",
    "fig_5.update_layout(title={'x': 0.5, 'xanchor': 'center'}, height=600)\n",
    "\n",
    "fig_5.show()"
   ]
  },
  {
   "cell_type": "markdown",
   "id": "51989e33-bf64-4664-8d74-88ea0bc3c725",
   "metadata": {},
   "source": [
    "### Box Plot for Runs vs Match Type"
   ]
  },
  {
   "cell_type": "code",
   "execution_count": null,
   "id": "3ed38343-a847-4c25-9597-c09116acb9f7",
   "metadata": {},
   "outputs": [],
   "source": [
    "fig_6 = px.box(\n",
    "    test_df, x='info_match_type', y='innings_overs_deliveries_runs_batter',\n",
    "    title=\"Runs Distribution Across Match Types\",\n",
    "    color='info_match_type',\n",
    "    color_discrete_sequence=px.colors.qualitative.Set2\n",
    ")\n",
    "\n",
    "fig_6.update_layout(title={'x': 0.5, 'xanchor': 'center'}, height=600, legend_title_text=\"Match Type\")\n",
    "\n",
    "fig_6.show()"
   ]
  },
  {
   "cell_type": "markdown",
   "id": "5b3e81e2-3ee5-410b-bb03-ff1410f150a8",
   "metadata": {},
   "source": [
    "### Violin Plot for Runs by Toss Winner and Decision"
   ]
  },
  {
   "cell_type": "code",
   "execution_count": null,
   "id": "f3e47c62-e5f2-4c2b-a65d-5f74c4880d34",
   "metadata": {},
   "outputs": [],
   "source": [
    "unique_teams = filtered_data['info_outcome_winner'].unique()\n",
    "\n",
    "color_palette = px.colors.qualitative.Set1[:len(unique_teams)]  # Choose an appropriate palette\n",
    "\n",
    "color_map = {team: color for team, color in zip(unique_teams, color_palette)}\n",
    "\n",
    "fig_7 = px.violin(\n",
    "    filtered_data,\n",
    "    x='info_outcome_winner', y='innings_overs_deliveries_runs_batter',\n",
    "    color='info_outcome_winner',  # Color by team\n",
    "    title=\"Runs by Toss Winner and Decision (Top 10 Teams)\",\n",
    "    box=True, points=\"all\",\n",
    "    color_discrete_map=color_map  # Use the color map\n",
    ")\n",
    "\n",
    "fig_7.update_layout(title={'x': 0.5, 'xanchor': 'center'}, height=600, legend_title_text=\"Toss Winner\")\n",
    "\n",
    "fig_7.show()"
   ]
  },
  {
   "cell_type": "markdown",
   "id": "651578ed-6ced-41d7-9496-453d08b6ce73",
   "metadata": {},
   "source": [
    "### Bar Plot for Runs by Season"
   ]
  },
  {
   "cell_type": "code",
   "execution_count": null,
   "id": "4387d1b1-5952-44a3-a650-7a597f8188a3",
   "metadata": {},
   "outputs": [],
   "source": [
    "runs_by_season = test_df.groupby('info_event_name')['innings_overs_deliveries_runs_batter'].sum().reset_index()\n",
    "\n",
    "runs_by_season = runs_by_season.sort_values(by='innings_overs_deliveries_runs_batter', ascending=False).head(10)\n",
    "\n",
    "fig_8 = px.bar(\n",
    "    runs_by_season,\n",
    "    x='info_event_name', y='innings_overs_deliveries_runs_batter',\n",
    "    title=\"Runs by Season (Top 10 Seasons)\",\n",
    "    labels={'info_event_name': 'Season', 'innings_overs_deliveries_runs_batter': 'Total Runs'},\n",
    "    color='info_event_name',\n",
    "    color_discrete_sequence=px.colors.qualitative.Dark24\n",
    ")\n",
    "fig_8.update_layout(title={'x': 0.5, 'xanchor': 'center'}, height=600, xaxis={'categoryorder':'total descending'})\n",
    "\n",
    "fig_8.show()"
   ]
  },
  {
   "cell_type": "markdown",
   "id": "633f62e6-5a4d-498d-aee4-1a932c9595cf",
   "metadata": {},
   "source": [
    "### Line Chart for Total Runs"
   ]
  },
  {
   "cell_type": "code",
   "execution_count": null,
   "id": "e6280dc6-a509-4d03-acc7-51aa9ac11b9a",
   "metadata": {},
   "outputs": [],
   "source": [
    "if 'meta_created' in test_df.columns:\n",
    "    test_df['meta_created'] = pd.to_datetime(test_df['meta_created'])\n",
    "    runs_over_time = test_df.groupby(test_df['meta_created'].dt.year)['innings_overs_deliveries_runs_batter'].sum().reset_index()\n",
    "    \n",
    "fig_9 = px.line(\n",
    "    runs_over_time, x='meta_created', y='innings_overs_deliveries_runs_batter',\n",
    "    title=\"Total Runs Over Time\",\n",
    "    markers=True,\n",
    "    labels={'meta_created': 'Year', 'innings_overs_deliveries_runs_batter': 'Total Runs'},\n",
    "    color_discrete_sequence=['#FF5733']\n",
    ")\n",
    "\n",
    "fig_9.update_traces(line=dict(dash=\"solid\"))\n",
    "\n",
    "fig_9.update_layout(title={'x': 0.5, 'xanchor': 'center'})\n",
    "\n",
    "fig_9.show()"
   ]
  },
  {
   "cell_type": "markdown",
   "id": "89235ab2-c686-4a11-88fd-3b8abf72aadb",
   "metadata": {},
   "source": [
    "### Pie Chart for Extra Runs Conceded by Teams"
   ]
  },
  {
   "cell_type": "code",
   "execution_count": null,
   "id": "4ab0edf4-5ad5-490b-b150-1377cfc0663c",
   "metadata": {},
   "outputs": [],
   "source": [
    "extra_runs_by_team = test_df.groupby('info_outcome_winner')['innings_overs_deliveries_runs_extras'].sum().reset_index()\n",
    "\n",
    "extra_runs_by_team = extra_runs_by_team.sort_values(by='innings_overs_deliveries_runs_extras', ascending=False).head(10)\n",
    "\n",
    "fig_10 = px.pie(\n",
    "    extra_runs_by_team,\n",
    "    names='info_outcome_winner', values='innings_overs_deliveries_runs_extras',\n",
    "    title=\"Extra Runs Conceded by Teams (Top 10)\",\n",
    "    color_discrete_sequence=px.colors.qualitative.Prism\n",
    ")\n",
    "\n",
    "fig_10.update_layout(title={'x': 0.5, 'xanchor': 'center'}, height = 600)\n",
    "\n",
    "fig_10.show()"
   ]
  }
 ],
 "metadata": {
  "kernelspec": {
   "display_name": "Python 3 (ipykernel)",
   "language": "python",
   "name": "python3"
  },
  "language_info": {
   "codemirror_mode": {
    "name": "ipython",
    "version": 3
   },
   "file_extension": ".py",
   "mimetype": "text/x-python",
   "name": "python",
   "nbconvert_exporter": "python",
   "pygments_lexer": "ipython3",
   "version": "3.12.7"
  }
 },
 "nbformat": 4,
 "nbformat_minor": 5
}
